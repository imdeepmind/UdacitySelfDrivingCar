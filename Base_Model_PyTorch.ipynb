{
  "nbformat": 4,
  "nbformat_minor": 0,
  "metadata": {
    "colab": {
      "name": "Base Model PyTorch.ipynb",
      "provenance": [],
      "include_colab_link": true
    },
    "kernelspec": {
      "name": "python3",
      "display_name": "Python 3"
    },
    "accelerator": "GPU"
  },
  "cells": [
    {
      "cell_type": "markdown",
      "metadata": {
        "id": "view-in-github",
        "colab_type": "text"
      },
      "source": [
        "<a href=\"https://colab.research.google.com/github/imdeepmind/UdacitySelfDrivingCar/blob/master/Base_Model_PyTorch.ipynb\" target=\"_parent\"><img src=\"https://colab.research.google.com/assets/colab-badge.svg\" alt=\"Open In Colab\"/></a>"
      ]
    },
    {
      "cell_type": "code",
      "metadata": {
        "id": "hPuiYw2I52J0",
        "colab_type": "code",
        "colab": {
          "base_uri": "https://localhost:8080/",
          "height": 146
        },
        "outputId": "8e6e2718-1da9-4e80-dce6-a3c2acec6a02"
      },
      "source": [
        "# Getting the into colab\n",
        "!git clone https://github.com/imdeepmind/UdacitySelfDrivingCar.git\n",
        "!mkdir data\n",
        "!mv UdacitySelfDrivingCar/* ./\n",
        "!rm -r UdacitySelfDrivingCar"
      ],
      "execution_count": 2,
      "outputs": [
        {
          "output_type": "stream",
          "text": [
            "Cloning into 'UdacitySelfDrivingCar'...\n",
            "remote: Enumerating objects: 6, done.\u001b[K\n",
            "remote: Counting objects: 100% (6/6), done.\u001b[K\n",
            "remote: Compressing objects: 100% (6/6), done.\u001b[K\n",
            "remote: Total 5257 (delta 2), reused 0 (delta 0), pack-reused 5251\u001b[K\n",
            "Receiving objects: 100% (5257/5257), 148.81 MiB | 24.38 MiB/s, done.\n",
            "Resolving deltas: 100% (34/34), done.\n"
          ],
          "name": "stdout"
        }
      ]
    },
    {
      "cell_type": "code",
      "metadata": {
        "id": "xrN5iC0IoDFK",
        "colab_type": "code",
        "colab": {
          "base_uri": "https://localhost:8080/",
          "height": 164
        },
        "outputId": "2adee57c-dc14-4686-9c02-204dd9ed4083"
      },
      "source": [
        "!pip install neuralpy-torch"
      ],
      "execution_count": 3,
      "outputs": [
        {
          "output_type": "stream",
          "text": [
            "Collecting neuralpy-torch\n",
            "\u001b[?25l  Downloading https://files.pythonhosted.org/packages/6f/88/56dbd85e53e8f8d52b79cfcb0a2dd0f0c0b17f287eae44fd4b6fadf11ef1/neuralpy_torch-0.2.0-py3-none-any.whl (72kB)\n",
            "\r\u001b[K     |████▌                           | 10kB 19.3MB/s eta 0:00:01\r\u001b[K     |█████████                       | 20kB 6.1MB/s eta 0:00:01\r\u001b[K     |█████████████▌                  | 30kB 7.0MB/s eta 0:00:01\r\u001b[K     |██████████████████              | 40kB 7.8MB/s eta 0:00:01\r\u001b[K     |██████████████████████▌         | 51kB 7.0MB/s eta 0:00:01\r\u001b[K     |███████████████████████████     | 61kB 7.9MB/s eta 0:00:01\r\u001b[K     |███████████████████████████████▌| 71kB 8.1MB/s eta 0:00:01\r\u001b[K     |████████████████████████████████| 81kB 5.5MB/s \n",
            "\u001b[?25hRequirement already satisfied: torch in /usr/local/lib/python3.6/dist-packages (from neuralpy-torch) (1.6.0+cu101)\n",
            "Requirement already satisfied: future in /usr/local/lib/python3.6/dist-packages (from torch->neuralpy-torch) (0.16.0)\n",
            "Requirement already satisfied: numpy in /usr/local/lib/python3.6/dist-packages (from torch->neuralpy-torch) (1.18.5)\n",
            "Installing collected packages: neuralpy-torch\n",
            "Successfully installed neuralpy-torch-0.2.0\n"
          ],
          "name": "stdout"
        }
      ]
    },
    {
      "cell_type": "code",
      "metadata": {
        "id": "SJj8dmJE6M9n",
        "colab_type": "code",
        "colab": {}
      },
      "source": [
        "# Dependencies\n",
        "import pandas as pd\n",
        "import numpy as np\n",
        "import cv2\n",
        "\n",
        "import torch\n",
        "import torch.nn as nn\n",
        "import torch.optim as optim\n",
        "\n",
        "import matplotlib.pyplot as plt\n",
        "\n",
        "from torch.utils.data import Dataset, DataLoader, sampler\n",
        "import torchvision.transforms as transforms\n",
        "\n",
        "from neuralpy.models import Sequential\n",
        "from neuralpy.layers import Conv2D, Dense, Flatten, MaxPool2D\n",
        "from neuralpy.regularizers import Dropout2D\n",
        "from neuralpy.activation_functions import ReLU"
      ],
      "execution_count": 29,
      "outputs": []
    },
    {
      "cell_type": "code",
      "metadata": {
        "id": "DKKQz6B26ZGs",
        "colab_type": "code",
        "colab": {}
      },
      "source": [
        "# Constants\n",
        "CSV_FILE = './data/driver_log_cleaned.csv'\n",
        "BATCH_SIZE=32\n",
        "EPOCH=10"
      ],
      "execution_count": 5,
      "outputs": []
    },
    {
      "cell_type": "code",
      "metadata": {
        "id": "h2hGX0my68_D",
        "colab_type": "code",
        "colab": {
          "base_uri": "https://localhost:8080/",
          "height": 206
        },
        "outputId": "aa8afd7f-ad58-4416-8b6e-6a6579462c2a"
      },
      "source": [
        "# Reading CSV file\n",
        "data = pd.read_csv(CSV_FILE)\n",
        "data.head()"
      ],
      "execution_count": 6,
      "outputs": [
        {
          "output_type": "execute_result",
          "data": {
            "text/html": [
              "<div>\n",
              "<style scoped>\n",
              "    .dataframe tbody tr th:only-of-type {\n",
              "        vertical-align: middle;\n",
              "    }\n",
              "\n",
              "    .dataframe tbody tr th {\n",
              "        vertical-align: top;\n",
              "    }\n",
              "\n",
              "    .dataframe thead th {\n",
              "        text-align: right;\n",
              "    }\n",
              "</style>\n",
              "<table border=\"1\" class=\"dataframe\">\n",
              "  <thead>\n",
              "    <tr style=\"text-align: right;\">\n",
              "      <th></th>\n",
              "      <th>center_camera</th>\n",
              "      <th>left_camera</th>\n",
              "      <th>right_camera</th>\n",
              "      <th>steering</th>\n",
              "      <th>throttle</th>\n",
              "      <th>reverse</th>\n",
              "      <th>speed</th>\n",
              "    </tr>\n",
              "  </thead>\n",
              "  <tbody>\n",
              "    <tr>\n",
              "      <th>0</th>\n",
              "      <td>./data/IMG/center_2020_09_05_16_40_17_113.jpg</td>\n",
              "      <td>./data/IMG/left_2020_09_05_16_40_17_113.jpg</td>\n",
              "      <td>./data/IMG/right_2020_09_05_16_40_17_113.jpg</td>\n",
              "      <td>0.0</td>\n",
              "      <td>0.0</td>\n",
              "      <td>0</td>\n",
              "      <td>0.000077</td>\n",
              "    </tr>\n",
              "    <tr>\n",
              "      <th>1</th>\n",
              "      <td>./data/IMG/center_2020_09_05_16_40_17_214.jpg</td>\n",
              "      <td>./data/IMG/left_2020_09_05_16_40_17_214.jpg</td>\n",
              "      <td>./data/IMG/right_2020_09_05_16_40_17_214.jpg</td>\n",
              "      <td>0.0</td>\n",
              "      <td>0.0</td>\n",
              "      <td>0</td>\n",
              "      <td>0.000077</td>\n",
              "    </tr>\n",
              "    <tr>\n",
              "      <th>2</th>\n",
              "      <td>./data/IMG/center_2020_09_05_16_40_17_320.jpg</td>\n",
              "      <td>./data/IMG/left_2020_09_05_16_40_17_320.jpg</td>\n",
              "      <td>./data/IMG/right_2020_09_05_16_40_17_320.jpg</td>\n",
              "      <td>0.0</td>\n",
              "      <td>0.0</td>\n",
              "      <td>0</td>\n",
              "      <td>0.000077</td>\n",
              "    </tr>\n",
              "    <tr>\n",
              "      <th>3</th>\n",
              "      <td>./data/IMG/center_2020_09_05_16_40_17_425.jpg</td>\n",
              "      <td>./data/IMG/left_2020_09_05_16_40_17_425.jpg</td>\n",
              "      <td>./data/IMG/right_2020_09_05_16_40_17_425.jpg</td>\n",
              "      <td>0.0</td>\n",
              "      <td>0.0</td>\n",
              "      <td>0</td>\n",
              "      <td>0.000077</td>\n",
              "    </tr>\n",
              "    <tr>\n",
              "      <th>4</th>\n",
              "      <td>./data/IMG/center_2020_09_05_16_40_17_531.jpg</td>\n",
              "      <td>./data/IMG/left_2020_09_05_16_40_17_531.jpg</td>\n",
              "      <td>./data/IMG/right_2020_09_05_16_40_17_531.jpg</td>\n",
              "      <td>0.0</td>\n",
              "      <td>0.0</td>\n",
              "      <td>0</td>\n",
              "      <td>0.000077</td>\n",
              "    </tr>\n",
              "  </tbody>\n",
              "</table>\n",
              "</div>"
            ],
            "text/plain": [
              "                                   center_camera  ...     speed\n",
              "0  ./data/IMG/center_2020_09_05_16_40_17_113.jpg  ...  0.000077\n",
              "1  ./data/IMG/center_2020_09_05_16_40_17_214.jpg  ...  0.000077\n",
              "2  ./data/IMG/center_2020_09_05_16_40_17_320.jpg  ...  0.000077\n",
              "3  ./data/IMG/center_2020_09_05_16_40_17_425.jpg  ...  0.000077\n",
              "4  ./data/IMG/center_2020_09_05_16_40_17_531.jpg  ...  0.000077\n",
              "\n",
              "[5 rows x 7 columns]"
            ]
          },
          "metadata": {
            "tags": []
          },
          "execution_count": 6
        }
      ]
    },
    {
      "cell_type": "code",
      "metadata": {
        "id": "qxxQELcABIy-",
        "colab_type": "code",
        "colab": {}
      },
      "source": [
        "center_image = data[\"center_camera\"].values\n",
        "\n",
        "steering = data[\"steering\"].values"
      ],
      "execution_count": 7,
      "outputs": []
    },
    {
      "cell_type": "code",
      "metadata": {
        "id": "xs0L6OJu7DZr",
        "colab_type": "code",
        "colab": {}
      },
      "source": [
        "# Custom Data Loader class\n",
        "class DriveDataset(Dataset):\n",
        "  def __init__(self, center_images, steering, transform=None):\n",
        "    self.__center_images = center_images\n",
        "\n",
        "    self.__steering = steering\n",
        "\n",
        "    self.__transform = transform\n",
        "  \n",
        "  def __len__(self):\n",
        "    return len(self.__steering)\n",
        "  \n",
        "  def __getitem__(self, index):\n",
        "    center = cv2.imread(self.__center_images[index], 1)\n",
        "\n",
        "    if self.__transform:\n",
        "      center = self.__transform(center)\n",
        "\n",
        "    steering = torch.tensor(float(self.__steering[index]))\n",
        "\n",
        "    return center, steering"
      ],
      "execution_count": 8,
      "outputs": []
    },
    {
      "cell_type": "code",
      "metadata": {
        "id": "-KdCi7wQAdHD",
        "colab_type": "code",
        "colab": {}
      },
      "source": [
        "# Making the data loader generator\n",
        "dataset = DriveDataset(center_image, steering, transform=transforms.ToTensor())\n",
        "train_set, test_set = torch.utils.data.random_split(dataset, [int(len(center_image) * .8), int(len(steering) - (len(steering) * .8) + 1) ])\n",
        "\n",
        "train_loader = DataLoader(dataset=train_set, batch_size=BATCH_SIZE, shuffle=True)\n",
        "test_loader = DataLoader(dataset=test_set, batch_size=BATCH_SIZE, shuffle=True)"
      ],
      "execution_count": 9,
      "outputs": []
    },
    {
      "cell_type": "code",
      "metadata": {
        "id": "QNNT9NX6DACH",
        "colab_type": "code",
        "colab": {}
      },
      "source": [
        "model = Sequential()\n",
        "\n",
        "model.add(Conv2D(filters=64, kernel_size=3, input_shape=(3, 160,320)))\n",
        "model.add(ReLU())\n",
        "model.add(MaxPool2D(kernel_size=2))\n",
        "model.add(Dropout2D())\n",
        "\n",
        "model.add(Conv2D(filters=64, kernel_size=3))\n",
        "model.add(ReLU())\n",
        "model.add(MaxPool2D(kernel_size=2))\n",
        "model.add(Dropout2D())\n",
        "\n",
        "model.add(Conv2D(filters=128, kernel_size=3))\n",
        "model.add(ReLU())\n",
        "model.add(MaxPool2D(kernel_size=2))\n",
        "model.add(Dropout2D())\n",
        "\n",
        "model.add(Conv2D(filters=128, kernel_size=3))\n",
        "model.add(ReLU())\n",
        "model.add(MaxPool2D(kernel_size=2))\n",
        "model.add(Dropout2D())\n",
        "\n",
        "model.add(Conv2D(filters=256, kernel_size=3))\n",
        "model.add(ReLU())\n",
        "model.add(MaxPool2D(kernel_size=2))\n",
        "model.add(Dropout2D())\n",
        "\n",
        "model.add(Conv2D(filters=256, kernel_size=3))\n",
        "model.add(ReLU())\n",
        "model.add(Dropout2D())\n",
        "\n",
        "model.add(Flatten())\n",
        "\n",
        "model.add(Dense(1024))\n",
        "model.add(ReLU())\n",
        "\n",
        "model.add(Dense(1024))\n",
        "model.add(ReLU())\n",
        "\n",
        "model.add(Dense(1))"
      ],
      "execution_count": 10,
      "outputs": []
    },
    {
      "cell_type": "code",
      "metadata": {
        "id": "DT76XEVpDC2T",
        "colab_type": "code",
        "colab": {
          "base_uri": "https://localhost:8080/",
          "height": 641
        },
        "outputId": "419b2820-8abf-4021-8765-0dde6396afd6"
      },
      "source": [
        "model.build()\n",
        "model.summary()"
      ],
      "execution_count": 11,
      "outputs": [
        {
          "output_type": "stream",
          "text": [
            "The model is running on cuda:0\n",
            "Sequential(\n",
            "  (conv2d_layer_1): Conv2d(3, 64, kernel_size=(3, 3), stride=(1, 1))\n",
            "  (relu_layer_2): ReLU()\n",
            "  (maxpool2d_layer_3): MaxPool2d(kernel_size=2, stride=2, padding=0, dilation=1, ceil_mode=False)\n",
            "  (dropout2d_layer_4): Dropout2d(p=0.5, inplace=False)\n",
            "  (conv2d_layer_5): Conv2d(64, 64, kernel_size=(3, 3), stride=(1, 1))\n",
            "  (relu_layer_6): ReLU()\n",
            "  (maxpool2d_layer_7): MaxPool2d(kernel_size=2, stride=2, padding=0, dilation=1, ceil_mode=False)\n",
            "  (dropout2d_layer_8): Dropout2d(p=0.5, inplace=False)\n",
            "  (conv2d_layer_9): Conv2d(64, 128, kernel_size=(3, 3), stride=(1, 1))\n",
            "  (relu_layer_10): ReLU()\n",
            "  (maxpool2d_layer_11): MaxPool2d(kernel_size=2, stride=2, padding=0, dilation=1, ceil_mode=False)\n",
            "  (dropout2d_layer_12): Dropout2d(p=0.5, inplace=False)\n",
            "  (conv2d_layer_13): Conv2d(128, 128, kernel_size=(3, 3), stride=(1, 1))\n",
            "  (relu_layer_14): ReLU()\n",
            "  (maxpool2d_layer_15): MaxPool2d(kernel_size=2, stride=2, padding=0, dilation=1, ceil_mode=False)\n",
            "  (dropout2d_layer_16): Dropout2d(p=0.5, inplace=False)\n",
            "  (conv2d_layer_17): Conv2d(128, 256, kernel_size=(3, 3), stride=(1, 1))\n",
            "  (relu_layer_18): ReLU()\n",
            "  (maxpool2d_layer_19): MaxPool2d(kernel_size=2, stride=2, padding=0, dilation=1, ceil_mode=False)\n",
            "  (dropout2d_layer_20): Dropout2d(p=0.5, inplace=False)\n",
            "  (conv2d_layer_21): Conv2d(256, 256, kernel_size=(3, 3), stride=(1, 1))\n",
            "  (relu_layer_22): ReLU()\n",
            "  (dropout2d_layer_23): Dropout2d(p=0.5, inplace=False)\n",
            "  (flatten_layer_24): Flatten()\n",
            "  (dense_layer_25): Linear(in_features=1536, out_features=1024, bias=True)\n",
            "  (relu_layer_26): ReLU()\n",
            "  (dense_layer_27): Linear(in_features=1024, out_features=1024, bias=True)\n",
            "  (relu_layer_28): ReLU()\n",
            "  (dense_layer_29): Linear(in_features=1024, out_features=1, bias=True)\n",
            ")\n",
            "Total Number of Parameters:  3769921\n",
            "Total Number of Trainable Parameters:  3769921\n"
          ],
          "name": "stdout"
        }
      ]
    },
    {
      "cell_type": "code",
      "metadata": {
        "id": "-PmUb_R3pwZF",
        "colab_type": "code",
        "colab": {
          "base_uri": "https://localhost:8080/",
          "height": 586
        },
        "outputId": "8c1e0e48-210c-47a2-ae63-5562d5df4c1b"
      },
      "source": [
        "pytorch_model = model.get_model()\n",
        "pytorch_model"
      ],
      "execution_count": 24,
      "outputs": [
        {
          "output_type": "execute_result",
          "data": {
            "text/plain": [
              "Sequential(\n",
              "  (conv2d_layer_1): Conv2d(3, 64, kernel_size=(3, 3), stride=(1, 1))\n",
              "  (relu_layer_2): ReLU()\n",
              "  (maxpool2d_layer_3): MaxPool2d(kernel_size=2, stride=2, padding=0, dilation=1, ceil_mode=False)\n",
              "  (dropout2d_layer_4): Dropout2d(p=0.5, inplace=False)\n",
              "  (conv2d_layer_5): Conv2d(64, 64, kernel_size=(3, 3), stride=(1, 1))\n",
              "  (relu_layer_6): ReLU()\n",
              "  (maxpool2d_layer_7): MaxPool2d(kernel_size=2, stride=2, padding=0, dilation=1, ceil_mode=False)\n",
              "  (dropout2d_layer_8): Dropout2d(p=0.5, inplace=False)\n",
              "  (conv2d_layer_9): Conv2d(64, 128, kernel_size=(3, 3), stride=(1, 1))\n",
              "  (relu_layer_10): ReLU()\n",
              "  (maxpool2d_layer_11): MaxPool2d(kernel_size=2, stride=2, padding=0, dilation=1, ceil_mode=False)\n",
              "  (dropout2d_layer_12): Dropout2d(p=0.5, inplace=False)\n",
              "  (conv2d_layer_13): Conv2d(128, 128, kernel_size=(3, 3), stride=(1, 1))\n",
              "  (relu_layer_14): ReLU()\n",
              "  (maxpool2d_layer_15): MaxPool2d(kernel_size=2, stride=2, padding=0, dilation=1, ceil_mode=False)\n",
              "  (dropout2d_layer_16): Dropout2d(p=0.5, inplace=False)\n",
              "  (conv2d_layer_17): Conv2d(128, 256, kernel_size=(3, 3), stride=(1, 1))\n",
              "  (relu_layer_18): ReLU()\n",
              "  (maxpool2d_layer_19): MaxPool2d(kernel_size=2, stride=2, padding=0, dilation=1, ceil_mode=False)\n",
              "  (dropout2d_layer_20): Dropout2d(p=0.5, inplace=False)\n",
              "  (conv2d_layer_21): Conv2d(256, 256, kernel_size=(3, 3), stride=(1, 1))\n",
              "  (relu_layer_22): ReLU()\n",
              "  (dropout2d_layer_23): Dropout2d(p=0.5, inplace=False)\n",
              "  (flatten_layer_24): Flatten()\n",
              "  (dense_layer_25): Linear(in_features=1536, out_features=1024, bias=True)\n",
              "  (relu_layer_26): ReLU()\n",
              "  (dense_layer_27): Linear(in_features=1024, out_features=1024, bias=True)\n",
              "  (relu_layer_28): ReLU()\n",
              "  (dense_layer_29): Linear(in_features=1024, out_features=1, bias=True)\n",
              ")"
            ]
          },
          "metadata": {
            "tags": []
          },
          "execution_count": 24
        }
      ]
    },
    {
      "cell_type": "code",
      "metadata": {
        "id": "LBDmvKryS7U6",
        "colab_type": "code",
        "colab": {}
      },
      "source": [
        "# Pytorch devoce\n",
        "if torch.cuda.is_available():\n",
        "    device = torch.device(\"cuda\")\n",
        "else:\n",
        "    device = torch.device(\"cpu\")"
      ],
      "execution_count": 25,
      "outputs": []
    },
    {
      "cell_type": "code",
      "metadata": {
        "id": "52LQeh1CTGcM",
        "colab_type": "code",
        "colab": {}
      },
      "source": [
        "# Optimizer and loss function\n",
        "criterion = nn.MSELoss()\n",
        "optimizer = optim.Adam(pytorch_model.parameters(), lr=0.001)"
      ],
      "execution_count": 26,
      "outputs": []
    },
    {
      "cell_type": "code",
      "metadata": {
        "id": "_s5R2brupzvz",
        "colab_type": "code",
        "colab": {
          "base_uri": "https://localhost:8080/",
          "height": 935
        },
        "outputId": "8e3c1daa-a709-471c-97ec-8b6210ede083"
      },
      "source": [
        "training_losses = []\n",
        "validation_losses = []\n",
        "\n",
        "for epoch in range(EPOCH):\n",
        "  dataiter = iter(train_loader)\n",
        "\n",
        "  pytorch_model.train()\n",
        "\n",
        "  for i, data in enumerate(dataiter):\n",
        "    # unpacking the data\n",
        "    images, labels = data\n",
        "    \n",
        "    # moving the data to device\n",
        "    images = images.to(device)\n",
        "    labels = labels.to(device)\n",
        "\n",
        "    # passing the image through the model and predict something\n",
        "    out = pytorch_model(images)\n",
        "\n",
        "    # calculating the loss based on the prediction\n",
        "    loss = criterion(out, labels.view(-1, 1))\n",
        "\n",
        "    # apending the loss\n",
        "    training_losses.append(loss.item())\n",
        "    \n",
        "    # zero gradient\n",
        "    optimizer.zero_grad()\n",
        "\n",
        "    # backpropagation\n",
        "    loss.backward()\n",
        "    \n",
        "    # update the parameters\n",
        "    optimizer.step()\n",
        "\n",
        "    # printing a message\n",
        "    if (i+1) % 10 == 0:\n",
        "      print(f\"Epoch: {epoch+1}:{EPOCH}  Batch: {i+1}  Training Loss: {loss.item()*10000}\")\n",
        "  \n",
        "  test_data = iter(test_loader)\n",
        "\n",
        "  pytorch_model.eval()\n",
        "\n",
        "  with torch.no_grad():\n",
        "    for i, data in enumerate(test_data):\n",
        "      # unpacking the data\n",
        "      images, labels = data\n",
        "      \n",
        "      # moving the data to device\n",
        "      images = images.to(device)\n",
        "      labels = labels.to(device)\n",
        "\n",
        "      # passing the image through the model and predict something\n",
        "      out = pytorch_model(images)\n",
        "\n",
        "      # calculating the loss based on the prediction\n",
        "      loss = criterion(out, labels.view(-1, 1))\n",
        "\n",
        "      # apending the loss\n",
        "      validation_losses.append(loss.item())\n",
        "\n",
        "      # printing a message\n",
        "      if (i+1) % 10 == 0:\n",
        "        print(f\"Epoch: {epoch+1}:{EPOCH}  Batch: {i+1}  Validation Loss: {loss.item()*10000}\")"
      ],
      "execution_count": 27,
      "outputs": [
        {
          "output_type": "stream",
          "text": [
            "Epoch: 1:10  Batch: 10  Training Loss: 136.50438748300076\n",
            "Epoch: 1:10  Batch: 20  Training Loss: 223.6170507967472\n",
            "Epoch: 1:10  Batch: 30  Training Loss: 256.18063285946846\n",
            "Epoch: 1:10  Batch: 40  Training Loss: 292.8575128316879\n",
            "Epoch: 1:10  Batch: 10  Validation Loss: 470.8047956228256\n",
            "Epoch: 2:10  Batch: 10  Training Loss: 55.70923909544945\n",
            "Epoch: 2:10  Batch: 20  Training Loss: 248.50627407431602\n",
            "Epoch: 2:10  Batch: 30  Training Loss: 405.64022958278656\n",
            "Epoch: 2:10  Batch: 40  Training Loss: 151.68831683695316\n",
            "Epoch: 2:10  Batch: 10  Validation Loss: 377.75833159685135\n",
            "Epoch: 3:10  Batch: 10  Training Loss: 186.58433109521866\n",
            "Epoch: 3:10  Batch: 20  Training Loss: 444.7556659579277\n",
            "Epoch: 3:10  Batch: 30  Training Loss: 739.9865239858627\n",
            "Epoch: 3:10  Batch: 40  Training Loss: 87.79005147516727\n",
            "Epoch: 3:10  Batch: 10  Validation Loss: 430.5070638656616\n",
            "Epoch: 4:10  Batch: 10  Training Loss: 172.3254844546318\n",
            "Epoch: 4:10  Batch: 20  Training Loss: 23.339930921792984\n",
            "Epoch: 4:10  Batch: 30  Training Loss: 430.38539588451385\n",
            "Epoch: 4:10  Batch: 40  Training Loss: 178.15567553043365\n",
            "Epoch: 4:10  Batch: 10  Validation Loss: 51.938751712441444\n",
            "Epoch: 5:10  Batch: 10  Training Loss: 61.08654197305441\n",
            "Epoch: 5:10  Batch: 20  Training Loss: 39.79046829044819\n",
            "Epoch: 5:10  Batch: 30  Training Loss: 61.77977193146944\n",
            "Epoch: 5:10  Batch: 40  Training Loss: 81.40205405652523\n",
            "Epoch: 5:10  Batch: 10  Validation Loss: 170.69736495614052\n",
            "Epoch: 6:10  Batch: 10  Training Loss: 53.54329012334347\n",
            "Epoch: 6:10  Batch: 20  Training Loss: 167.70388931035995\n",
            "Epoch: 6:10  Batch: 30  Training Loss: 464.5649343729019\n",
            "Epoch: 6:10  Batch: 40  Training Loss: 348.0522707104683\n",
            "Epoch: 6:10  Batch: 10  Validation Loss: 326.1442482471466\n",
            "Epoch: 7:10  Batch: 10  Training Loss: 96.80761955678463\n",
            "Epoch: 7:10  Batch: 20  Training Loss: 407.6153039932251\n",
            "Epoch: 7:10  Batch: 30  Training Loss: 490.88213592767715\n",
            "Epoch: 7:10  Batch: 40  Training Loss: 89.7827185690403\n",
            "Epoch: 7:10  Batch: 10  Validation Loss: 319.6941316127777\n",
            "Epoch: 8:10  Batch: 10  Training Loss: 212.99101412296295\n",
            "Epoch: 8:10  Batch: 20  Training Loss: 237.56815120577812\n",
            "Epoch: 8:10  Batch: 30  Training Loss: 162.9750244319439\n",
            "Epoch: 8:10  Batch: 40  Training Loss: 253.00243869423866\n",
            "Epoch: 8:10  Batch: 10  Validation Loss: 416.43552482128143\n",
            "Epoch: 9:10  Batch: 10  Training Loss: 106.8795844912529\n",
            "Epoch: 9:10  Batch: 20  Training Loss: 161.08529642224312\n",
            "Epoch: 9:10  Batch: 30  Training Loss: 169.54367980360985\n",
            "Epoch: 9:10  Batch: 40  Training Loss: 136.81781478226185\n",
            "Epoch: 9:10  Batch: 10  Validation Loss: 363.9790043234825\n",
            "Epoch: 10:10  Batch: 10  Training Loss: 58.915577828884125\n",
            "Epoch: 10:10  Batch: 20  Training Loss: 136.71379536390305\n",
            "Epoch: 10:10  Batch: 30  Training Loss: 523.9194631576538\n",
            "Epoch: 10:10  Batch: 40  Training Loss: 61.80947180837393\n",
            "Epoch: 10:10  Batch: 10  Validation Loss: 120.70511467754841\n"
          ],
          "name": "stdout"
        }
      ]
    },
    {
      "cell_type": "code",
      "metadata": {
        "id": "dGUBkT8c8mnF",
        "colab_type": "code",
        "colab": {
          "base_uri": "https://localhost:8080/",
          "height": 295
        },
        "outputId": "7a12e645-071e-4e88-9311-035e2dbf5551"
      },
      "source": [
        "plt.plot(training_losses)\n",
        "plt.plot(validation_losses)\n",
        "plt.title('Model Loss')\n",
        "plt.ylabel('Loss')\n",
        "plt.xlabel('Batches')\n",
        "plt.legend(['train', 'test'], loc='upper left')\n",
        "plt.show()"
      ],
      "execution_count": 30,
      "outputs": [
        {
          "output_type": "display_data",
          "data": {
            "image/png": "[encoded data removed]",
            "text/plain": [
              "<Figure size 432x288 with 1 Axes>"
            ]
          },
          "metadata": {
            "tags": [],
            "needs_background": "light"
          }
        }
      ]
    },
    {
      "cell_type": "code",
      "metadata": {
        "id": "fzPlIDYZXjel",
        "colab_type": "code",
        "colab": {}
      },
      "source": [
        "torch.save(pytorch_model.state_dict(), './model.pth')"
      ],
      "execution_count": 31,
      "outputs": []
    },
    {
      "cell_type": "code",
      "metadata": {
        "id": "A0_iI89HfK1h",
        "colab_type": "code",
        "colab": {}
      },
      "source": [
        ""
      ],
      "execution_count": 23,
      "outputs": []
    }
  ]
}