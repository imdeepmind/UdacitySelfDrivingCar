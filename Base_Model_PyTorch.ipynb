{
  "nbformat": 4,
  "nbformat_minor": 0,
  "metadata": {
    "colab": {
      "name": "Base Model PyTorch.ipynb",
      "provenance": [],
      "authorship_tag": "ABX9TyOY5WGhDxi3oWTbu7bjatyn",
      "include_colab_link": true
    },
    "kernelspec": {
      "name": "python3",
      "display_name": "Python 3"
    }
  },
  "cells": [
    {
      "cell_type": "markdown",
      "metadata": {
        "id": "view-in-github",
        "colab_type": "text"
      },
      "source": [
        "<a href=\"https://colab.research.google.com/github/imdeepmind/UdacitySelfDrivingCar/blob/master/Base_Model_PyTorch.ipynb\" target=\"_parent\"><img src=\"https://colab.research.google.com/assets/colab-badge.svg\" alt=\"Open In Colab\"/></a>"
      ]
    },
    {
      "cell_type": "code",
      "metadata": {
        "id": "hPuiYw2I52J0",
        "colab_type": "code",
        "colab": {
          "base_uri": "https://localhost:8080/",
          "height": 149
        },
        "outputId": "1be42041-f9a1-45cb-d402-dc355e5f377a"
      },
      "source": [
        "# Getting the into colab\n",
        "!git clone https://github.com/imdeepmind/UdacitySelfDrivingCar.git\n",
        "!mkdir data\n",
        "!mv UdacitySelfDrivingCar/* ./\n",
        "!rm -r UdacitySelfDrivingCar"
      ],
      "execution_count": 6,
      "outputs": [
        {
          "output_type": "stream",
          "text": [
            "Cloning into 'UdacitySelfDrivingCar'...\n",
            "remote: Enumerating objects: 27, done.\u001b[K\n",
            "remote: Counting objects: 100% (27/27), done.\u001b[K\n",
            "remote: Compressing objects: 100% (22/22), done.\u001b[K\n",
            "remote: Total 5227 (delta 14), reused 10 (delta 5), pack-reused 5200\u001b[K\n",
            "Receiving objects: 100% (5227/5227), 66.03 MiB | 31.10 MiB/s, done.\n",
            "Resolving deltas: 100% (15/15), done.\n"
          ],
          "name": "stdout"
        }
      ]
    },
    {
      "cell_type": "code",
      "metadata": {
        "id": "SJj8dmJE6M9n",
        "colab_type": "code",
        "colab": {}
      },
      "source": [
        "# Dependencies\n",
        "import pandas as pd\n",
        "import numpy as np\n",
        "import cv2\n",
        "import torch\n",
        "\n",
        "from torch.utils.data import Dataset, DataLoader, sampler\n",
        "import torchvision.transforms as transforms\n"
      ],
      "execution_count": 16,
      "outputs": []
    },
    {
      "cell_type": "code",
      "metadata": {
        "id": "DKKQz6B26ZGs",
        "colab_type": "code",
        "colab": {}
      },
      "source": [
        "# Constants\n",
        "CSV_FILE = './data/driver_log_cleaned.csv'\n",
        "BATCH_SIZE=32"
      ],
      "execution_count": 35,
      "outputs": []
    },
    {
      "cell_type": "code",
      "metadata": {
        "id": "h2hGX0my68_D",
        "colab_type": "code",
        "colab": {
          "base_uri": "https://localhost:8080/",
          "height": 206
        },
        "outputId": "5b082cf5-d44d-4158-e59c-ac7010477708"
      },
      "source": [
        "# Reading CSV file\n",
        "data = pd.read_csv(CSV_FILE)\n",
        "data.head()"
      ],
      "execution_count": 9,
      "outputs": [
        {
          "output_type": "execute_result",
          "data": {
            "text/html": [
              "<div>\n",
              "<style scoped>\n",
              "    .dataframe tbody tr th:only-of-type {\n",
              "        vertical-align: middle;\n",
              "    }\n",
              "\n",
              "    .dataframe tbody tr th {\n",
              "        vertical-align: top;\n",
              "    }\n",
              "\n",
              "    .dataframe thead th {\n",
              "        text-align: right;\n",
              "    }\n",
              "</style>\n",
              "<table border=\"1\" class=\"dataframe\">\n",
              "  <thead>\n",
              "    <tr style=\"text-align: right;\">\n",
              "      <th></th>\n",
              "      <th>center_camera</th>\n",
              "      <th>left_camera</th>\n",
              "      <th>right_camera</th>\n",
              "      <th>steering</th>\n",
              "      <th>throttle</th>\n",
              "      <th>reverse</th>\n",
              "      <th>speed</th>\n",
              "    </tr>\n",
              "  </thead>\n",
              "  <tbody>\n",
              "    <tr>\n",
              "      <th>0</th>\n",
              "      <td>./data/IMG/center_2020_09_05_16_40_17_113.jpg</td>\n",
              "      <td>./data/IMG/left_2020_09_05_16_40_17_113.jpg</td>\n",
              "      <td>./data/IMG/right_2020_09_05_16_40_17_113.jpg</td>\n",
              "      <td>0.0</td>\n",
              "      <td>0.0</td>\n",
              "      <td>0</td>\n",
              "      <td>0.000077</td>\n",
              "    </tr>\n",
              "    <tr>\n",
              "      <th>1</th>\n",
              "      <td>./data/IMG/center_2020_09_05_16_40_17_214.jpg</td>\n",
              "      <td>./data/IMG/left_2020_09_05_16_40_17_214.jpg</td>\n",
              "      <td>./data/IMG/right_2020_09_05_16_40_17_214.jpg</td>\n",
              "      <td>0.0</td>\n",
              "      <td>0.0</td>\n",
              "      <td>0</td>\n",
              "      <td>0.000077</td>\n",
              "    </tr>\n",
              "    <tr>\n",
              "      <th>2</th>\n",
              "      <td>./data/IMG/center_2020_09_05_16_40_17_320.jpg</td>\n",
              "      <td>./data/IMG/left_2020_09_05_16_40_17_320.jpg</td>\n",
              "      <td>./data/IMG/right_2020_09_05_16_40_17_320.jpg</td>\n",
              "      <td>0.0</td>\n",
              "      <td>0.0</td>\n",
              "      <td>0</td>\n",
              "      <td>0.000077</td>\n",
              "    </tr>\n",
              "    <tr>\n",
              "      <th>3</th>\n",
              "      <td>./data/IMG/center_2020_09_05_16_40_17_425.jpg</td>\n",
              "      <td>./data/IMG/left_2020_09_05_16_40_17_425.jpg</td>\n",
              "      <td>./data/IMG/right_2020_09_05_16_40_17_425.jpg</td>\n",
              "      <td>0.0</td>\n",
              "      <td>0.0</td>\n",
              "      <td>0</td>\n",
              "      <td>0.000077</td>\n",
              "    </tr>\n",
              "    <tr>\n",
              "      <th>4</th>\n",
              "      <td>./data/IMG/center_2020_09_05_16_40_17_531.jpg</td>\n",
              "      <td>./data/IMG/left_2020_09_05_16_40_17_531.jpg</td>\n",
              "      <td>./data/IMG/right_2020_09_05_16_40_17_531.jpg</td>\n",
              "      <td>0.0</td>\n",
              "      <td>0.0</td>\n",
              "      <td>0</td>\n",
              "      <td>0.000077</td>\n",
              "    </tr>\n",
              "  </tbody>\n",
              "</table>\n",
              "</div>"
            ],
            "text/plain": [
              "                                   center_camera  ...     speed\n",
              "0  ./data/IMG/center_2020_09_05_16_40_17_113.jpg  ...  0.000077\n",
              "1  ./data/IMG/center_2020_09_05_16_40_17_214.jpg  ...  0.000077\n",
              "2  ./data/IMG/center_2020_09_05_16_40_17_320.jpg  ...  0.000077\n",
              "3  ./data/IMG/center_2020_09_05_16_40_17_425.jpg  ...  0.000077\n",
              "4  ./data/IMG/center_2020_09_05_16_40_17_531.jpg  ...  0.000077\n",
              "\n",
              "[5 rows x 7 columns]"
            ]
          },
          "metadata": {
            "tags": []
          },
          "execution_count": 9
        }
      ]
    },
    {
      "cell_type": "code",
      "metadata": {
        "id": "qxxQELcABIy-",
        "colab_type": "code",
        "colab": {}
      },
      "source": [
        "left_image = data[\"left_camera\"].values\n",
        "center_image = data[\"center_camera\"].values\n",
        "right_image = data[\"right_camera\"].values\n",
        "\n",
        "steering = data[\"steering\"].values"
      ],
      "execution_count": 15,
      "outputs": []
    },
    {
      "cell_type": "code",
      "metadata": {
        "id": "xs0L6OJu7DZr",
        "colab_type": "code",
        "colab": {}
      },
      "source": [
        "# Custom Data Loader class\n",
        "class DriveDataset(Dataset):\n",
        "  def __init__(self, left_images, center_images, right_images, steering, transform=None):\n",
        "    self.__left_images = left_images\n",
        "    self.__center_images = center_images\n",
        "    self.__right_images = right_images\n",
        "\n",
        "    self.__steering = steering\n",
        "\n",
        "    self.__transform = transform\n",
        "  \n",
        "  def __len__(self):\n",
        "    return len(self.__steering)\n",
        "  \n",
        "  def __getitem__(self, index):\n",
        "    left = cv2.imread(self.__left_images[index], 1)\n",
        "    center = cv2.imread(self.__center_images[index], 1)\n",
        "    right = cv2.imread(self.__right_images[index], 1)\n",
        "\n",
        "    stacked = np.hstack([left, center, right])\n",
        "\n",
        "    if self.__transform:\n",
        "      stacked = self.__transform(stacked)\n",
        "\n",
        "    steering =  torch.tensor(float(self.__steering[index]))\n",
        "\n",
        "    return stacked, steering"
      ],
      "execution_count": 14,
      "outputs": []
    },
    {
      "cell_type": "code",
      "metadata": {
        "id": "-KdCi7wQAdHD",
        "colab_type": "code",
        "colab": {}
      },
      "source": [
        "# Making the data loader generator\n",
        "dataset = DriveDataset(left_image, center_image, right_image, steering, transform=transforms.ToTensor())\n",
        "train_set, test_set = torch.utils.data.random_split(dataset, [int(len(left_image) * .8), int(len(steering) - (len(steering) * .8) + 1) ])\n",
        "\n",
        "train_loader = DataLoader(dataset=train_set, batch_size=BATCH_SIZE, shuffle=True)\n",
        "test_loader = DataLoader(dataset=test_set, batch_size=BATCH_SIZE, shuffle=True)"
      ],
      "execution_count": 34,
      "outputs": []
    },
    {
      "cell_type": "code",
      "metadata": {
        "id": "QNNT9NX6DACH",
        "colab_type": "code",
        "colab": {
          "base_uri": "https://localhost:8080/",
          "height": 36
        },
        "outputId": "768a9fc2-85aa-47cc-bdbc-a50c1f57647b"
      },
      "source": [
        "# Testing the loader\n",
        "for i, (images, labels) in enumerate(train_loader):\n",
        "    print(images.shape, labels.shape)\n",
        "    break"
      ],
      "execution_count": 44,
      "outputs": [
        {
          "output_type": "stream",
          "text": [
            "torch.Size([32, 3, 160, 960]) torch.Size([32])\n"
          ],
          "name": "stdout"
        }
      ]
    },
    {
      "cell_type": "code",
      "metadata": {
        "id": "DT76XEVpDC2T",
        "colab_type": "code",
        "colab": {}
      },
      "source": [
        ""
      ],
      "execution_count": null,
      "outputs": []
    }
  ]
}