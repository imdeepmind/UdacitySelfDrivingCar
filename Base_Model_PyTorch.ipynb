{
  "nbformat": 4,
  "nbformat_minor": 0,
  "metadata": {
    "colab": {
      "name": "Base Model PyTorch.ipynb",
      "provenance": [],
      "include_colab_link": true
    },
    "kernelspec": {
      "name": "python3",
      "display_name": "Python 3"
    },
    "accelerator": "GPU"
  },
  "cells": [
    {
      "cell_type": "markdown",
      "metadata": {
        "id": "view-in-github",
        "colab_type": "text"
      },
      "source": [
        "<a href=\"https://colab.research.google.com/github/imdeepmind/UdacitySelfDrivingCar/blob/master/Base_Model_PyTorch.ipynb\" target=\"_parent\"><img src=\"https://colab.research.google.com/assets/colab-badge.svg\" alt=\"Open In Colab\"/></a>"
      ]
    },
    {
      "cell_type": "code",
      "metadata": {
        "id": "hPuiYw2I52J0",
        "colab_type": "code",
        "colab": {
          "base_uri": "https://localhost:8080/",
          "height": 109
        },
        "outputId": "60ceedf8-b271-4102-edce-9e590586c3de"
      },
      "source": [
        "# Getting the into colab\n",
        "!git clone https://github.com/imdeepmind/UdacitySelfDrivingCar.git\n",
        "!mkdir data\n",
        "!mv UdacitySelfDrivingCar/* ./\n",
        "!rm -r UdacitySelfDrivingCar"
      ],
      "execution_count": 2,
      "outputs": [
        {
          "output_type": "stream",
          "text": [
            "Cloning into 'UdacitySelfDrivingCar'...\n",
            "remote: Enumerating objects: 5251, done.\u001b[K\n",
            "remote: Total 5251 (delta 0), reused 0 (delta 0), pack-reused 5251\u001b[K\n",
            "Receiving objects: 100% (5251/5251), 148.80 MiB | 37.61 MiB/s, done.\n",
            "Resolving deltas: 100% (32/32), done.\n"
          ],
          "name": "stdout"
        }
      ]
    },
    {
      "cell_type": "code",
      "metadata": {
        "id": "xrN5iC0IoDFK",
        "colab_type": "code",
        "colab": {
          "base_uri": "https://localhost:8080/",
          "height": 164
        },
        "outputId": "a10036a4-f853-44aa-c576-e1730b0c6621"
      },
      "source": [
        "!pip install neuralpy-torch"
      ],
      "execution_count": 1,
      "outputs": [
        {
          "output_type": "stream",
          "text": [
            "Collecting neuralpy-torch\n",
            "\u001b[?25l  Downloading https://files.pythonhosted.org/packages/6f/88/56dbd85e53e8f8d52b79cfcb0a2dd0f0c0b17f287eae44fd4b6fadf11ef1/neuralpy_torch-0.2.0-py3-none-any.whl (72kB)\n",
            "\r\u001b[K     |████▌                           | 10kB 23.0MB/s eta 0:00:01\r\u001b[K     |█████████                       | 20kB 3.5MB/s eta 0:00:01\r\u001b[K     |█████████████▌                  | 30kB 4.2MB/s eta 0:00:01\r\u001b[K     |██████████████████              | 40kB 4.5MB/s eta 0:00:01\r\u001b[K     |██████████████████████▌         | 51kB 4.0MB/s eta 0:00:01\r\u001b[K     |███████████████████████████     | 61kB 4.5MB/s eta 0:00:01\r\u001b[K     |███████████████████████████████▌| 71kB 4.9MB/s eta 0:00:01\r\u001b[K     |████████████████████████████████| 81kB 3.7MB/s \n",
            "\u001b[?25hRequirement already satisfied: torch in /usr/local/lib/python3.6/dist-packages (from neuralpy-torch) (1.6.0+cu101)\n",
            "Requirement already satisfied: future in /usr/local/lib/python3.6/dist-packages (from torch->neuralpy-torch) (0.16.0)\n",
            "Requirement already satisfied: numpy in /usr/local/lib/python3.6/dist-packages (from torch->neuralpy-torch) (1.18.5)\n",
            "Installing collected packages: neuralpy-torch\n",
            "Successfully installed neuralpy-torch-0.2.0\n"
          ],
          "name": "stdout"
        }
      ]
    },
    {
      "cell_type": "code",
      "metadata": {
        "id": "SJj8dmJE6M9n",
        "colab_type": "code",
        "colab": {}
      },
      "source": [
        "# Dependencies\n",
        "import pandas as pd\n",
        "import numpy as np\n",
        "import cv2\n",
        "\n",
        "import torch\n",
        "import torch.nn as nn\n",
        "import torch.optim as optim\n",
        "\n",
        "from torch.utils.data import Dataset, DataLoader, sampler\n",
        "import torchvision.transforms as transforms\n",
        "\n",
        "from neuralpy.models import Sequential\n",
        "from neuralpy.layers import Conv2D, Dense, Flatten, MaxPool2D\n",
        "from neuralpy.regularizers import Dropout2D\n",
        "from neuralpy.activation_functions import ReLU"
      ],
      "execution_count": 42,
      "outputs": []
    },
    {
      "cell_type": "code",
      "metadata": {
        "id": "DKKQz6B26ZGs",
        "colab_type": "code",
        "colab": {}
      },
      "source": [
        "# Constants\n",
        "CSV_FILE = './data/driver_log_cleaned.csv'\n",
        "BATCH_SIZE=32\n",
        "EPOCH=10"
      ],
      "execution_count": 45,
      "outputs": []
    },
    {
      "cell_type": "code",
      "metadata": {
        "id": "h2hGX0my68_D",
        "colab_type": "code",
        "colab": {
          "base_uri": "https://localhost:8080/",
          "height": 206
        },
        "outputId": "3062803d-e6d8-498c-9dc8-16d9543b3f25"
      },
      "source": [
        "# Reading CSV file\n",
        "data = pd.read_csv(CSV_FILE)\n",
        "data.head()"
      ],
      "execution_count": 31,
      "outputs": [
        {
          "output_type": "execute_result",
          "data": {
            "text/html": [
              "<div>\n",
              "<style scoped>\n",
              "    .dataframe tbody tr th:only-of-type {\n",
              "        vertical-align: middle;\n",
              "    }\n",
              "\n",
              "    .dataframe tbody tr th {\n",
              "        vertical-align: top;\n",
              "    }\n",
              "\n",
              "    .dataframe thead th {\n",
              "        text-align: right;\n",
              "    }\n",
              "</style>\n",
              "<table border=\"1\" class=\"dataframe\">\n",
              "  <thead>\n",
              "    <tr style=\"text-align: right;\">\n",
              "      <th></th>\n",
              "      <th>center_camera</th>\n",
              "      <th>left_camera</th>\n",
              "      <th>right_camera</th>\n",
              "      <th>steering</th>\n",
              "      <th>throttle</th>\n",
              "      <th>reverse</th>\n",
              "      <th>speed</th>\n",
              "    </tr>\n",
              "  </thead>\n",
              "  <tbody>\n",
              "    <tr>\n",
              "      <th>0</th>\n",
              "      <td>./data/IMG/center_2020_09_05_16_40_17_113.jpg</td>\n",
              "      <td>./data/IMG/left_2020_09_05_16_40_17_113.jpg</td>\n",
              "      <td>./data/IMG/right_2020_09_05_16_40_17_113.jpg</td>\n",
              "      <td>0.0</td>\n",
              "      <td>0.0</td>\n",
              "      <td>0</td>\n",
              "      <td>0.000077</td>\n",
              "    </tr>\n",
              "    <tr>\n",
              "      <th>1</th>\n",
              "      <td>./data/IMG/center_2020_09_05_16_40_17_214.jpg</td>\n",
              "      <td>./data/IMG/left_2020_09_05_16_40_17_214.jpg</td>\n",
              "      <td>./data/IMG/right_2020_09_05_16_40_17_214.jpg</td>\n",
              "      <td>0.0</td>\n",
              "      <td>0.0</td>\n",
              "      <td>0</td>\n",
              "      <td>0.000077</td>\n",
              "    </tr>\n",
              "    <tr>\n",
              "      <th>2</th>\n",
              "      <td>./data/IMG/center_2020_09_05_16_40_17_320.jpg</td>\n",
              "      <td>./data/IMG/left_2020_09_05_16_40_17_320.jpg</td>\n",
              "      <td>./data/IMG/right_2020_09_05_16_40_17_320.jpg</td>\n",
              "      <td>0.0</td>\n",
              "      <td>0.0</td>\n",
              "      <td>0</td>\n",
              "      <td>0.000077</td>\n",
              "    </tr>\n",
              "    <tr>\n",
              "      <th>3</th>\n",
              "      <td>./data/IMG/center_2020_09_05_16_40_17_425.jpg</td>\n",
              "      <td>./data/IMG/left_2020_09_05_16_40_17_425.jpg</td>\n",
              "      <td>./data/IMG/right_2020_09_05_16_40_17_425.jpg</td>\n",
              "      <td>0.0</td>\n",
              "      <td>0.0</td>\n",
              "      <td>0</td>\n",
              "      <td>0.000077</td>\n",
              "    </tr>\n",
              "    <tr>\n",
              "      <th>4</th>\n",
              "      <td>./data/IMG/center_2020_09_05_16_40_17_531.jpg</td>\n",
              "      <td>./data/IMG/left_2020_09_05_16_40_17_531.jpg</td>\n",
              "      <td>./data/IMG/right_2020_09_05_16_40_17_531.jpg</td>\n",
              "      <td>0.0</td>\n",
              "      <td>0.0</td>\n",
              "      <td>0</td>\n",
              "      <td>0.000077</td>\n",
              "    </tr>\n",
              "  </tbody>\n",
              "</table>\n",
              "</div>"
            ],
            "text/plain": [
              "                                   center_camera  ...     speed\n",
              "0  ./data/IMG/center_2020_09_05_16_40_17_113.jpg  ...  0.000077\n",
              "1  ./data/IMG/center_2020_09_05_16_40_17_214.jpg  ...  0.000077\n",
              "2  ./data/IMG/center_2020_09_05_16_40_17_320.jpg  ...  0.000077\n",
              "3  ./data/IMG/center_2020_09_05_16_40_17_425.jpg  ...  0.000077\n",
              "4  ./data/IMG/center_2020_09_05_16_40_17_531.jpg  ...  0.000077\n",
              "\n",
              "[5 rows x 7 columns]"
            ]
          },
          "metadata": {
            "tags": []
          },
          "execution_count": 31
        }
      ]
    },
    {
      "cell_type": "code",
      "metadata": {
        "id": "qxxQELcABIy-",
        "colab_type": "code",
        "colab": {}
      },
      "source": [
        "center_image = data[\"center_camera\"].values\n",
        "\n",
        "steering = data[\"steering\"].values"
      ],
      "execution_count": 41,
      "outputs": []
    },
    {
      "cell_type": "code",
      "metadata": {
        "id": "xs0L6OJu7DZr",
        "colab_type": "code",
        "colab": {}
      },
      "source": [
        "# Custom Data Loader class\n",
        "class DriveDataset(Dataset):\n",
        "  def __init__(self, center_images, steering, transform=None):\n",
        "    self.__center_images = center_images\n",
        "\n",
        "    self.__steering = steering\n",
        "\n",
        "    self.__transform = transform\n",
        "  \n",
        "  def __len__(self):\n",
        "    return len(self.__steering)\n",
        "  \n",
        "  def __getitem__(self, index):\n",
        "    center = cv2.imread(self.__center_images[index], 1)\n",
        "\n",
        "    if self.__transform:\n",
        "      center = self.__transform(center)\n",
        "\n",
        "    steering = torch.tensor(float(self.__steering[index]))\n",
        "\n",
        "    return center, steering"
      ],
      "execution_count": 40,
      "outputs": []
    },
    {
      "cell_type": "code",
      "metadata": {
        "id": "-KdCi7wQAdHD",
        "colab_type": "code",
        "colab": {}
      },
      "source": [
        "# Making the data loader generator\n",
        "dataset = DriveDataset(center_image, steering, transform=transforms.ToTensor())\n",
        "train_set, test_set = torch.utils.data.random_split(dataset, [int(len(center_image) * .8), int(len(steering) - (len(steering) * .8) + 1) ])\n",
        "\n",
        "train_loader = DataLoader(dataset=train_set, batch_size=BATCH_SIZE, shuffle=True)\n",
        "test_loader = DataLoader(dataset=test_set, batch_size=BATCH_SIZE, shuffle=True)"
      ],
      "execution_count": 10,
      "outputs": []
    },
    {
      "cell_type": "code",
      "metadata": {
        "id": "QNNT9NX6DACH",
        "colab_type": "code",
        "colab": {}
      },
      "source": [
        "model = Sequential()\n",
        "\n",
        "model.add(Conv2D(filters=64, kernel_size=3, input_shape=(3, 160,320)))\n",
        "model.add(ReLU())\n",
        "model.add(MaxPool2D(kernel_size=2))\n",
        "model.add(Dropout2D())\n",
        "\n",
        "model.add(Conv2D(filters=64, kernel_size=3))\n",
        "model.add(ReLU())\n",
        "model.add(MaxPool2D(kernel_size=2))\n",
        "model.add(Dropout2D())\n",
        "\n",
        "model.add(Conv2D(filters=128, kernel_size=3))\n",
        "model.add(ReLU())\n",
        "model.add(MaxPool2D(kernel_size=2))\n",
        "model.add(Dropout2D())\n",
        "\n",
        "model.add(Conv2D(filters=128, kernel_size=3))\n",
        "model.add(ReLU())\n",
        "model.add(MaxPool2D(kernel_size=2))\n",
        "model.add(Dropout2D())\n",
        "\n",
        "model.add(Conv2D(filters=256, kernel_size=3))\n",
        "model.add(ReLU())\n",
        "model.add(MaxPool2D(kernel_size=2))\n",
        "model.add(Dropout2D())\n",
        "\n",
        "model.add(Conv2D(filters=256, kernel_size=3))\n",
        "model.add(ReLU())\n",
        "model.add(Dropout2D())\n",
        "\n",
        "model.add(Flatten())\n",
        "\n",
        "model.add(Dense(1024))\n",
        "model.add(ReLU())\n",
        "\n",
        "model.add(Dense(1024))\n",
        "model.add(ReLU())\n",
        "\n",
        "model.add(Dense(1))"
      ],
      "execution_count": 47,
      "outputs": []
    },
    {
      "cell_type": "code",
      "metadata": {
        "id": "DT76XEVpDC2T",
        "colab_type": "code",
        "colab": {
          "base_uri": "https://localhost:8080/",
          "height": 641
        },
        "outputId": "dc45b2dd-a831-4667-97ef-bf88e7a0d425"
      },
      "source": [
        "model.build()\n",
        "model.summary()"
      ],
      "execution_count": 48,
      "outputs": [
        {
          "output_type": "stream",
          "text": [
            "The model is running on cuda:0\n",
            "Sequential(\n",
            "  (conv2d_layer_1): Conv2d(3, 64, kernel_size=(3, 3), stride=(1, 1))\n",
            "  (relu_layer_2): ReLU()\n",
            "  (maxpool2d_layer_3): MaxPool2d(kernel_size=2, stride=2, padding=0, dilation=1, ceil_mode=False)\n",
            "  (dropout2d_layer_4): Dropout2d(p=0.5, inplace=False)\n",
            "  (conv2d_layer_5): Conv2d(64, 64, kernel_size=(3, 3), stride=(1, 1))\n",
            "  (relu_layer_6): ReLU()\n",
            "  (maxpool2d_layer_7): MaxPool2d(kernel_size=2, stride=2, padding=0, dilation=1, ceil_mode=False)\n",
            "  (dropout2d_layer_8): Dropout2d(p=0.5, inplace=False)\n",
            "  (conv2d_layer_9): Conv2d(64, 128, kernel_size=(3, 3), stride=(1, 1))\n",
            "  (relu_layer_10): ReLU()\n",
            "  (maxpool2d_layer_11): MaxPool2d(kernel_size=2, stride=2, padding=0, dilation=1, ceil_mode=False)\n",
            "  (dropout2d_layer_12): Dropout2d(p=0.5, inplace=False)\n",
            "  (conv2d_layer_13): Conv2d(128, 128, kernel_size=(3, 3), stride=(1, 1))\n",
            "  (relu_layer_14): ReLU()\n",
            "  (maxpool2d_layer_15): MaxPool2d(kernel_size=2, stride=2, padding=0, dilation=1, ceil_mode=False)\n",
            "  (dropout2d_layer_16): Dropout2d(p=0.5, inplace=False)\n",
            "  (conv2d_layer_17): Conv2d(128, 256, kernel_size=(3, 3), stride=(1, 1))\n",
            "  (relu_layer_18): ReLU()\n",
            "  (maxpool2d_layer_19): MaxPool2d(kernel_size=2, stride=2, padding=0, dilation=1, ceil_mode=False)\n",
            "  (dropout2d_layer_20): Dropout2d(p=0.5, inplace=False)\n",
            "  (conv2d_layer_21): Conv2d(256, 256, kernel_size=(3, 3), stride=(1, 1))\n",
            "  (relu_layer_22): ReLU()\n",
            "  (dropout2d_layer_23): Dropout2d(p=0.5, inplace=False)\n",
            "  (flatten_layer_24): Flatten()\n",
            "  (dense_layer_25): Linear(in_features=1536, out_features=1024, bias=True)\n",
            "  (relu_layer_26): ReLU()\n",
            "  (dense_layer_27): Linear(in_features=1024, out_features=1024, bias=True)\n",
            "  (relu_layer_28): ReLU()\n",
            "  (dense_layer_29): Linear(in_features=1024, out_features=1, bias=True)\n",
            ")\n",
            "Total Number of Parameters:  3769921\n",
            "Total Number of Trainable Parameters:  3769921\n"
          ],
          "name": "stdout"
        }
      ]
    },
    {
      "cell_type": "code",
      "metadata": {
        "id": "-PmUb_R3pwZF",
        "colab_type": "code",
        "colab": {
          "base_uri": "https://localhost:8080/",
          "height": 586
        },
        "outputId": "32525f48-6fd0-4be5-d25d-889501622eea"
      },
      "source": [
        "pytorch_model = model.get_model()\n",
        "pytorch_model"
      ],
      "execution_count": 49,
      "outputs": [
        {
          "output_type": "execute_result",
          "data": {
            "text/plain": [
              "Sequential(\n",
              "  (conv2d_layer_1): Conv2d(3, 64, kernel_size=(3, 3), stride=(1, 1))\n",
              "  (relu_layer_2): ReLU()\n",
              "  (maxpool2d_layer_3): MaxPool2d(kernel_size=2, stride=2, padding=0, dilation=1, ceil_mode=False)\n",
              "  (dropout2d_layer_4): Dropout2d(p=0.5, inplace=False)\n",
              "  (conv2d_layer_5): Conv2d(64, 64, kernel_size=(3, 3), stride=(1, 1))\n",
              "  (relu_layer_6): ReLU()\n",
              "  (maxpool2d_layer_7): MaxPool2d(kernel_size=2, stride=2, padding=0, dilation=1, ceil_mode=False)\n",
              "  (dropout2d_layer_8): Dropout2d(p=0.5, inplace=False)\n",
              "  (conv2d_layer_9): Conv2d(64, 128, kernel_size=(3, 3), stride=(1, 1))\n",
              "  (relu_layer_10): ReLU()\n",
              "  (maxpool2d_layer_11): MaxPool2d(kernel_size=2, stride=2, padding=0, dilation=1, ceil_mode=False)\n",
              "  (dropout2d_layer_12): Dropout2d(p=0.5, inplace=False)\n",
              "  (conv2d_layer_13): Conv2d(128, 128, kernel_size=(3, 3), stride=(1, 1))\n",
              "  (relu_layer_14): ReLU()\n",
              "  (maxpool2d_layer_15): MaxPool2d(kernel_size=2, stride=2, padding=0, dilation=1, ceil_mode=False)\n",
              "  (dropout2d_layer_16): Dropout2d(p=0.5, inplace=False)\n",
              "  (conv2d_layer_17): Conv2d(128, 256, kernel_size=(3, 3), stride=(1, 1))\n",
              "  (relu_layer_18): ReLU()\n",
              "  (maxpool2d_layer_19): MaxPool2d(kernel_size=2, stride=2, padding=0, dilation=1, ceil_mode=False)\n",
              "  (dropout2d_layer_20): Dropout2d(p=0.5, inplace=False)\n",
              "  (conv2d_layer_21): Conv2d(256, 256, kernel_size=(3, 3), stride=(1, 1))\n",
              "  (relu_layer_22): ReLU()\n",
              "  (dropout2d_layer_23): Dropout2d(p=0.5, inplace=False)\n",
              "  (flatten_layer_24): Flatten()\n",
              "  (dense_layer_25): Linear(in_features=1536, out_features=1024, bias=True)\n",
              "  (relu_layer_26): ReLU()\n",
              "  (dense_layer_27): Linear(in_features=1024, out_features=1024, bias=True)\n",
              "  (relu_layer_28): ReLU()\n",
              "  (dense_layer_29): Linear(in_features=1024, out_features=1, bias=True)\n",
              ")"
            ]
          },
          "metadata": {
            "tags": []
          },
          "execution_count": 49
        }
      ]
    },
    {
      "cell_type": "code",
      "metadata": {
        "id": "LBDmvKryS7U6",
        "colab_type": "code",
        "colab": {}
      },
      "source": [
        "# Pytorch devoce\n",
        "if torch.cuda.is_available():\n",
        "    device = torch.device(\"cuda\")\n",
        "else:\n",
        "    device = torch.device(\"cpu\")"
      ],
      "execution_count": 50,
      "outputs": []
    },
    {
      "cell_type": "code",
      "metadata": {
        "id": "52LQeh1CTGcM",
        "colab_type": "code",
        "colab": {}
      },
      "source": [
        "# Optimizer and loss function\n",
        "criterion = nn.MSELoss()\n",
        "optimizer = optim.Adam(pytorch_model.parameters(), lr=0.001)"
      ],
      "execution_count": 51,
      "outputs": []
    },
    {
      "cell_type": "code",
      "metadata": {
        "id": "_s5R2brupzvz",
        "colab_type": "code",
        "colab": {
          "base_uri": "https://localhost:8080/",
          "height": 935
        },
        "outputId": "1059df92-f3d8-4abd-da88-c3d50e310689"
      },
      "source": [
        "for epoch in range(EPOCH):\n",
        "  dataiter = iter(train_loader)\n",
        "\n",
        "  pytorch_model.train()\n",
        "\n",
        "  for i, data in enumerate(dataiter):\n",
        "    # unpacking the data\n",
        "    images, labels = data\n",
        "    \n",
        "    # moving the data to device\n",
        "    images = images.to(device)\n",
        "    labels = labels.to(device)\n",
        "\n",
        "    # passing the image through the model and predict something\n",
        "    out = pytorch_model(images)\n",
        "\n",
        "    # calculating the loss based on the prediction\n",
        "    loss = criterion(out, labels.view(-1, 1))\n",
        "    \n",
        "    # zero gradient\n",
        "    optimizer.zero_grad()\n",
        "\n",
        "    # backpropagation\n",
        "    loss.backward()\n",
        "    \n",
        "    # update the parameters\n",
        "    optimizer.step()\n",
        "\n",
        "    # printing a message\n",
        "    if (i+1) % 10 == 0:\n",
        "      print(f\"Epoch: {epoch+1}:{EPOCH}  Batch: {i+1}  Training Loss: {loss.item()*10000}\")\n",
        "  \n",
        "  test_data = iter(test_loader)\n",
        "\n",
        "  pytorch_model.eval()\n",
        "\n",
        "  with torch.no_grad():\n",
        "    for i, data in enumerate(test_data):\n",
        "      # unpacking the data\n",
        "      images, labels = data\n",
        "      \n",
        "      # moving the data to device\n",
        "      images = images.to(device)\n",
        "      labels = labels.to(device)\n",
        "\n",
        "      # passing the image through the model and predict something\n",
        "      out = pytorch_model(images)\n",
        "\n",
        "      # calculating the loss based on the prediction\n",
        "      loss = criterion(out, labels.view(-1, 1))\n",
        "\n",
        "      # printing a message\n",
        "      if (i+1) % 10 == 0:\n",
        "        print(f\"Epoch: {epoch+1}:{EPOCH}  Batch: {i+1}  Validation Loss: {loss.item()*10000}\")"
      ],
      "execution_count": 52,
      "outputs": [
        {
          "output_type": "stream",
          "text": [
            "Epoch: 1:10  Batch: 10  Training Loss: 177.65477299690247\n",
            "Epoch: 1:10  Batch: 20  Training Loss: 189.87732008099556\n",
            "Epoch: 1:10  Batch: 30  Training Loss: 52.01154388487339\n",
            "Epoch: 1:10  Batch: 40  Training Loss: 417.720302939415\n",
            "Epoch: 1:10  Batch: 10  Validation Loss: 191.01962447166443\n",
            "Epoch: 2:10  Batch: 10  Training Loss: 150.59933066368103\n",
            "Epoch: 2:10  Batch: 20  Training Loss: 366.0239279270172\n",
            "Epoch: 2:10  Batch: 30  Training Loss: 308.08936804533005\n",
            "Epoch: 2:10  Batch: 40  Training Loss: 56.260605342686176\n",
            "Epoch: 2:10  Batch: 10  Validation Loss: 128.93615290522575\n",
            "Epoch: 3:10  Batch: 10  Training Loss: 322.4598988890648\n",
            "Epoch: 3:10  Batch: 20  Training Loss: 393.56306195259094\n",
            "Epoch: 3:10  Batch: 30  Training Loss: 244.61021646857262\n",
            "Epoch: 3:10  Batch: 40  Training Loss: 175.45891925692558\n",
            "Epoch: 3:10  Batch: 10  Validation Loss: 126.90762989223003\n",
            "Epoch: 4:10  Batch: 10  Training Loss: 115.58236554265022\n",
            "Epoch: 4:10  Batch: 20  Training Loss: 218.67269650101662\n",
            "Epoch: 4:10  Batch: 30  Training Loss: 643.6898559331894\n",
            "Epoch: 4:10  Batch: 40  Training Loss: 357.48355090618134\n",
            "Epoch: 4:10  Batch: 10  Validation Loss: 222.952701151371\n",
            "Epoch: 5:10  Batch: 10  Training Loss: 320.36256045103073\n",
            "Epoch: 5:10  Batch: 20  Training Loss: 325.40421932935715\n",
            "Epoch: 5:10  Batch: 30  Training Loss: 250.42731314897537\n",
            "Epoch: 5:10  Batch: 40  Training Loss: 129.43129055202007\n",
            "Epoch: 5:10  Batch: 10  Validation Loss: 125.09492225944996\n",
            "Epoch: 6:10  Batch: 10  Training Loss: 85.04783734679222\n",
            "Epoch: 6:10  Batch: 20  Training Loss: 77.91535463184118\n",
            "Epoch: 6:10  Batch: 30  Training Loss: 262.90422305464745\n",
            "Epoch: 6:10  Batch: 40  Training Loss: 275.58567002415657\n",
            "Epoch: 6:10  Batch: 10  Validation Loss: 138.10783624649048\n",
            "Epoch: 7:10  Batch: 10  Training Loss: 196.93974405527115\n",
            "Epoch: 7:10  Batch: 20  Training Loss: 202.18640565872192\n",
            "Epoch: 7:10  Batch: 30  Training Loss: 186.53888255357742\n",
            "Epoch: 7:10  Batch: 40  Training Loss: 544.9185520410538\n",
            "Epoch: 7:10  Batch: 10  Validation Loss: 275.37964284420013\n",
            "Epoch: 8:10  Batch: 10  Training Loss: 129.92128729820251\n",
            "Epoch: 8:10  Batch: 20  Training Loss: 138.23909685015678\n",
            "Epoch: 8:10  Batch: 30  Training Loss: 477.41591930389404\n",
            "Epoch: 8:10  Batch: 40  Training Loss: 337.00834959745407\n",
            "Epoch: 8:10  Batch: 10  Validation Loss: 226.84652358293533\n",
            "Epoch: 9:10  Batch: 10  Training Loss: 169.45930197834969\n",
            "Epoch: 9:10  Batch: 20  Training Loss: 247.50029668211937\n",
            "Epoch: 9:10  Batch: 30  Training Loss: 153.24223786592484\n",
            "Epoch: 9:10  Batch: 40  Training Loss: 195.8443969488144\n",
            "Epoch: 9:10  Batch: 10  Validation Loss: 283.1757441163063\n",
            "Epoch: 10:10  Batch: 10  Training Loss: 252.24991142749786\n",
            "Epoch: 10:10  Batch: 20  Training Loss: 223.58760237693787\n",
            "Epoch: 10:10  Batch: 30  Training Loss: 201.97883248329163\n",
            "Epoch: 10:10  Batch: 40  Training Loss: 196.58701494336128\n",
            "Epoch: 10:10  Batch: 10  Validation Loss: 232.5904555618763\n"
          ],
          "name": "stdout"
        }
      ]
    },
    {
      "cell_type": "code",
      "metadata": {
        "id": "fzPlIDYZXjel",
        "colab_type": "code",
        "colab": {}
      },
      "source": [
        "torch.save(pytorch_model.state_dict(), './model.pth')"
      ],
      "execution_count": null,
      "outputs": []
    },
    {
      "cell_type": "code",
      "metadata": {
        "id": "A0_iI89HfK1h",
        "colab_type": "code",
        "colab": {}
      },
      "source": [
        ""
      ],
      "execution_count": null,
      "outputs": []
    }
  ]
}