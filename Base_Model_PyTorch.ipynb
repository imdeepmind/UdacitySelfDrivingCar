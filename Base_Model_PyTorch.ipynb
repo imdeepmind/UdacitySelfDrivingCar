{
  "nbformat": 4,
  "nbformat_minor": 0,
  "metadata": {
    "colab": {
      "name": "Base Model PyTorch.ipynb",
      "provenance": [],
      "authorship_tag": "ABX9TyOodpvenxIR94OiogOZQZNy",
      "include_colab_link": true
    },
    "kernelspec": {
      "name": "python3",
      "display_name": "Python 3"
    },
    "accelerator": "GPU"
  },
  "cells": [
    {
      "cell_type": "markdown",
      "metadata": {
        "id": "view-in-github",
        "colab_type": "text"
      },
      "source": [
        "<a href=\"https://colab.research.google.com/github/imdeepmind/UdacitySelfDrivingCar/blob/master/Base_Model_PyTorch.ipynb\" target=\"_parent\"><img src=\"https://colab.research.google.com/assets/colab-badge.svg\" alt=\"Open In Colab\"/></a>"
      ]
    },
    {
      "cell_type": "code",
      "metadata": {
        "id": "hPuiYw2I52J0",
        "colab_type": "code",
        "colab": {
          "base_uri": "https://localhost:8080/",
          "height": 149
        },
        "outputId": "a878b82a-b553-463b-c66d-4deed7156b8e"
      },
      "source": [
        "# Getting the into colab\n",
        "!git clone https://github.com/imdeepmind/UdacitySelfDrivingCar.git\n",
        "!mkdir data\n",
        "!mv UdacitySelfDrivingCar/* ./\n",
        "!rm -r UdacitySelfDrivingCar"
      ],
      "execution_count": 1,
      "outputs": [
        {
          "output_type": "stream",
          "text": [
            "Cloning into 'UdacitySelfDrivingCar'...\n",
            "remote: Enumerating objects: 39, done.\u001b[K\n",
            "remote: Counting objects: 100% (39/39), done.\u001b[K\n",
            "remote: Compressing objects: 100% (34/34), done.\u001b[K\n",
            "remote: Total 5239 (delta 22), reused 10 (delta 5), pack-reused 5200\u001b[K\n",
            "Receiving objects: 100% (5239/5239), 66.03 MiB | 43.40 MiB/s, done.\n",
            "Resolving deltas: 100% (23/23), done.\n"
          ],
          "name": "stdout"
        }
      ]
    },
    {
      "cell_type": "code",
      "metadata": {
        "id": "xrN5iC0IoDFK",
        "colab_type": "code",
        "colab": {
          "base_uri": "https://localhost:8080/",
          "height": 168
        },
        "outputId": "08680225-5014-4684-dff6-0a272bcaf672"
      },
      "source": [
        "!pip install neuralpy-torch"
      ],
      "execution_count": 2,
      "outputs": [
        {
          "output_type": "stream",
          "text": [
            "Collecting neuralpy-torch\n",
            "\u001b[?25l  Downloading https://files.pythonhosted.org/packages/6f/88/56dbd85e53e8f8d52b79cfcb0a2dd0f0c0b17f287eae44fd4b6fadf11ef1/neuralpy_torch-0.2.0-py3-none-any.whl (72kB)\n",
            "\u001b[K     |████████████████████████████████| 81kB 4.1MB/s \n",
            "\u001b[?25hRequirement already satisfied: torch in /usr/local/lib/python3.6/dist-packages (from neuralpy-torch) (1.6.0+cu101)\n",
            "Requirement already satisfied: future in /usr/local/lib/python3.6/dist-packages (from torch->neuralpy-torch) (0.16.0)\n",
            "Requirement already satisfied: numpy in /usr/local/lib/python3.6/dist-packages (from torch->neuralpy-torch) (1.18.5)\n",
            "Installing collected packages: neuralpy-torch\n",
            "Successfully installed neuralpy-torch-0.2.0\n"
          ],
          "name": "stdout"
        }
      ]
    },
    {
      "cell_type": "code",
      "metadata": {
        "id": "SJj8dmJE6M9n",
        "colab_type": "code",
        "colab": {}
      },
      "source": [
        "# Dependencies\n",
        "import pandas as pd\n",
        "import numpy as np\n",
        "import cv2\n",
        "\n",
        "import torch\n",
        "import torch.nn as nn\n",
        "import torch.optim as optim\n",
        "\n",
        "from torch.utils.data import Dataset, DataLoader, sampler\n",
        "import torchvision.transforms as transforms\n",
        "\n",
        "from neuralpy.models import Sequential\n",
        "from neuralpy.layers import Conv2D, Dense, Flatten, MaxPool2D\n",
        "from neuralpy.regularizers import Dropout2D\n",
        "from neuralpy.activation_functions import ReLU\n",
        "\n",
        "from tqdm import tqdm"
      ],
      "execution_count": 17,
      "outputs": []
    },
    {
      "cell_type": "code",
      "metadata": {
        "id": "DKKQz6B26ZGs",
        "colab_type": "code",
        "colab": {}
      },
      "source": [
        "# Constants\n",
        "CSV_FILE = './data/driver_log_cleaned.csv'\n",
        "BATCH_SIZE=32"
      ],
      "execution_count": 4,
      "outputs": []
    },
    {
      "cell_type": "code",
      "metadata": {
        "id": "h2hGX0my68_D",
        "colab_type": "code",
        "colab": {
          "base_uri": "https://localhost:8080/",
          "height": 206
        },
        "outputId": "f51a5902-6268-44b7-90e3-ad07fd1ad769"
      },
      "source": [
        "# Reading CSV file\n",
        "data = pd.read_csv(CSV_FILE)\n",
        "data.head()"
      ],
      "execution_count": 5,
      "outputs": [
        {
          "output_type": "execute_result",
          "data": {
            "text/html": [
              "<div>\n",
              "<style scoped>\n",
              "    .dataframe tbody tr th:only-of-type {\n",
              "        vertical-align: middle;\n",
              "    }\n",
              "\n",
              "    .dataframe tbody tr th {\n",
              "        vertical-align: top;\n",
              "    }\n",
              "\n",
              "    .dataframe thead th {\n",
              "        text-align: right;\n",
              "    }\n",
              "</style>\n",
              "<table border=\"1\" class=\"dataframe\">\n",
              "  <thead>\n",
              "    <tr style=\"text-align: right;\">\n",
              "      <th></th>\n",
              "      <th>center_camera</th>\n",
              "      <th>left_camera</th>\n",
              "      <th>right_camera</th>\n",
              "      <th>steering</th>\n",
              "      <th>throttle</th>\n",
              "      <th>reverse</th>\n",
              "      <th>speed</th>\n",
              "    </tr>\n",
              "  </thead>\n",
              "  <tbody>\n",
              "    <tr>\n",
              "      <th>0</th>\n",
              "      <td>./data/IMG/center_2020_09_05_16_40_17_113.jpg</td>\n",
              "      <td>./data/IMG/left_2020_09_05_16_40_17_113.jpg</td>\n",
              "      <td>./data/IMG/right_2020_09_05_16_40_17_113.jpg</td>\n",
              "      <td>0.0</td>\n",
              "      <td>0.0</td>\n",
              "      <td>0</td>\n",
              "      <td>0.000077</td>\n",
              "    </tr>\n",
              "    <tr>\n",
              "      <th>1</th>\n",
              "      <td>./data/IMG/center_2020_09_05_16_40_17_214.jpg</td>\n",
              "      <td>./data/IMG/left_2020_09_05_16_40_17_214.jpg</td>\n",
              "      <td>./data/IMG/right_2020_09_05_16_40_17_214.jpg</td>\n",
              "      <td>0.0</td>\n",
              "      <td>0.0</td>\n",
              "      <td>0</td>\n",
              "      <td>0.000077</td>\n",
              "    </tr>\n",
              "    <tr>\n",
              "      <th>2</th>\n",
              "      <td>./data/IMG/center_2020_09_05_16_40_17_320.jpg</td>\n",
              "      <td>./data/IMG/left_2020_09_05_16_40_17_320.jpg</td>\n",
              "      <td>./data/IMG/right_2020_09_05_16_40_17_320.jpg</td>\n",
              "      <td>0.0</td>\n",
              "      <td>0.0</td>\n",
              "      <td>0</td>\n",
              "      <td>0.000077</td>\n",
              "    </tr>\n",
              "    <tr>\n",
              "      <th>3</th>\n",
              "      <td>./data/IMG/center_2020_09_05_16_40_17_425.jpg</td>\n",
              "      <td>./data/IMG/left_2020_09_05_16_40_17_425.jpg</td>\n",
              "      <td>./data/IMG/right_2020_09_05_16_40_17_425.jpg</td>\n",
              "      <td>0.0</td>\n",
              "      <td>0.0</td>\n",
              "      <td>0</td>\n",
              "      <td>0.000077</td>\n",
              "    </tr>\n",
              "    <tr>\n",
              "      <th>4</th>\n",
              "      <td>./data/IMG/center_2020_09_05_16_40_17_531.jpg</td>\n",
              "      <td>./data/IMG/left_2020_09_05_16_40_17_531.jpg</td>\n",
              "      <td>./data/IMG/right_2020_09_05_16_40_17_531.jpg</td>\n",
              "      <td>0.0</td>\n",
              "      <td>0.0</td>\n",
              "      <td>0</td>\n",
              "      <td>0.000077</td>\n",
              "    </tr>\n",
              "  </tbody>\n",
              "</table>\n",
              "</div>"
            ],
            "text/plain": [
              "                                   center_camera  ...     speed\n",
              "0  ./data/IMG/center_2020_09_05_16_40_17_113.jpg  ...  0.000077\n",
              "1  ./data/IMG/center_2020_09_05_16_40_17_214.jpg  ...  0.000077\n",
              "2  ./data/IMG/center_2020_09_05_16_40_17_320.jpg  ...  0.000077\n",
              "3  ./data/IMG/center_2020_09_05_16_40_17_425.jpg  ...  0.000077\n",
              "4  ./data/IMG/center_2020_09_05_16_40_17_531.jpg  ...  0.000077\n",
              "\n",
              "[5 rows x 7 columns]"
            ]
          },
          "metadata": {
            "tags": []
          },
          "execution_count": 5
        }
      ]
    },
    {
      "cell_type": "code",
      "metadata": {
        "id": "qxxQELcABIy-",
        "colab_type": "code",
        "colab": {}
      },
      "source": [
        "left_image = data[\"left_camera\"].values\n",
        "center_image = data[\"center_camera\"].values\n",
        "right_image = data[\"right_camera\"].values\n",
        "\n",
        "steering = data[\"steering\"].values"
      ],
      "execution_count": 6,
      "outputs": []
    },
    {
      "cell_type": "code",
      "metadata": {
        "id": "xs0L6OJu7DZr",
        "colab_type": "code",
        "colab": {}
      },
      "source": [
        "# Custom Data Loader class\n",
        "class DriveDataset(Dataset):\n",
        "  def __init__(self, left_images, center_images, right_images, steering, transform=None):\n",
        "    self.__left_images = left_images\n",
        "    self.__center_images = center_images\n",
        "    self.__right_images = right_images\n",
        "\n",
        "    self.__steering = steering\n",
        "\n",
        "    self.__transform = transform\n",
        "  \n",
        "  def __len__(self):\n",
        "    return len(self.__steering)\n",
        "  \n",
        "  def __getitem__(self, index):\n",
        "    left = cv2.imread(self.__left_images[index], 1)\n",
        "    center = cv2.imread(self.__center_images[index], 1)\n",
        "    right = cv2.imread(self.__right_images[index], 1)\n",
        "\n",
        "    stacked = np.hstack([left, center, right])\n",
        "\n",
        "    if self.__transform:\n",
        "      stacked = self.__transform(stacked)\n",
        "\n",
        "    steering =  torch.tensor(float(self.__steering[index]))\n",
        "\n",
        "    return stacked, steering"
      ],
      "execution_count": 7,
      "outputs": []
    },
    {
      "cell_type": "code",
      "metadata": {
        "id": "-KdCi7wQAdHD",
        "colab_type": "code",
        "colab": {}
      },
      "source": [
        "# Making the data loader generator\n",
        "dataset = DriveDataset(left_image, center_image, right_image, steering, transform=transforms.ToTensor())\n",
        "train_set, test_set = torch.utils.data.random_split(dataset, [int(len(left_image) * .8), int(len(steering) - (len(steering) * .8) + 1) ])\n",
        "\n",
        "train_loader = DataLoader(dataset=train_set, batch_size=BATCH_SIZE, shuffle=True)\n",
        "test_loader = DataLoader(dataset=test_set, batch_size=BATCH_SIZE, shuffle=True)"
      ],
      "execution_count": 8,
      "outputs": []
    },
    {
      "cell_type": "code",
      "metadata": {
        "id": "QNNT9NX6DACH",
        "colab_type": "code",
        "colab": {}
      },
      "source": [
        "model = Sequential()\n",
        "\n",
        "model.add(Conv2D(filters=64, kernel_size=3, input_shape=(3, 160,960)))\n",
        "model.add(ReLU())\n",
        "model.add(MaxPool2D(kernel_size=2))\n",
        "model.add(Dropout2D())\n",
        "\n",
        "model.add(Conv2D(filters=64, kernel_size=3))\n",
        "model.add(ReLU())\n",
        "model.add(MaxPool2D(kernel_size=2))\n",
        "model.add(Dropout2D())\n",
        "\n",
        "model.add(Conv2D(filters=128, kernel_size=3))\n",
        "model.add(ReLU())\n",
        "model.add(MaxPool2D(kernel_size=2))\n",
        "model.add(Dropout2D())\n",
        "\n",
        "model.add(Conv2D(filters=128, kernel_size=3))\n",
        "model.add(ReLU())\n",
        "model.add(MaxPool2D(kernel_size=2))\n",
        "model.add(Dropout2D())\n",
        "\n",
        "model.add(Conv2D(filters=256, kernel_size=3))\n",
        "model.add(ReLU())\n",
        "model.add(MaxPool2D(kernel_size=2))\n",
        "model.add(Dropout2D())\n",
        "\n",
        "\n",
        "model.add(Flatten())\n",
        "\n",
        "model.add(Dense(1024))\n",
        "model.add(ReLU())\n",
        "\n",
        "model.add(Dense(1024))\n",
        "model.add(ReLU())\n",
        "\n",
        "model.add(Dense(1))"
      ],
      "execution_count": 9,
      "outputs": []
    },
    {
      "cell_type": "code",
      "metadata": {
        "id": "DT76XEVpDC2T",
        "colab_type": "code",
        "colab": {
          "base_uri": "https://localhost:8080/",
          "height": 602
        },
        "outputId": "a6de171f-b0b2-48c1-b6e6-0650e6715338"
      },
      "source": [
        "model.build()\n",
        "model.summary()"
      ],
      "execution_count": 10,
      "outputs": [
        {
          "output_type": "stream",
          "text": [
            "The model is running on cuda:0\n",
            "Sequential(\n",
            "  (conv2d_layer_1): Conv2d(3, 64, kernel_size=(3, 3), stride=(1, 1))\n",
            "  (relu_layer_2): ReLU()\n",
            "  (maxpool2d_layer_3): MaxPool2d(kernel_size=2, stride=2, padding=0, dilation=1, ceil_mode=False)\n",
            "  (dropout2d_layer_4): Dropout2d(p=0.5, inplace=False)\n",
            "  (conv2d_layer_5): Conv2d(64, 64, kernel_size=(3, 3), stride=(1, 1))\n",
            "  (relu_layer_6): ReLU()\n",
            "  (maxpool2d_layer_7): MaxPool2d(kernel_size=2, stride=2, padding=0, dilation=1, ceil_mode=False)\n",
            "  (dropout2d_layer_8): Dropout2d(p=0.5, inplace=False)\n",
            "  (conv2d_layer_9): Conv2d(64, 128, kernel_size=(3, 3), stride=(1, 1))\n",
            "  (relu_layer_10): ReLU()\n",
            "  (maxpool2d_layer_11): MaxPool2d(kernel_size=2, stride=2, padding=0, dilation=1, ceil_mode=False)\n",
            "  (dropout2d_layer_12): Dropout2d(p=0.5, inplace=False)\n",
            "  (conv2d_layer_13): Conv2d(128, 128, kernel_size=(3, 3), stride=(1, 1))\n",
            "  (relu_layer_14): ReLU()\n",
            "  (maxpool2d_layer_15): MaxPool2d(kernel_size=2, stride=2, padding=0, dilation=1, ceil_mode=False)\n",
            "  (dropout2d_layer_16): Dropout2d(p=0.5, inplace=False)\n",
            "  (conv2d_layer_17): Conv2d(128, 256, kernel_size=(3, 3), stride=(1, 1))\n",
            "  (relu_layer_18): ReLU()\n",
            "  (maxpool2d_layer_19): MaxPool2d(kernel_size=2, stride=2, padding=0, dilation=1, ceil_mode=False)\n",
            "  (dropout2d_layer_20): Dropout2d(p=0.5, inplace=False)\n",
            "  (flatten_layer_21): Flatten()\n",
            "  (dense_layer_22): Linear(in_features=21504, out_features=1024, bias=True)\n",
            "  (relu_layer_23): ReLU()\n",
            "  (dense_layer_24): Linear(in_features=1024, out_features=1024, bias=True)\n",
            "  (relu_layer_25): ReLU()\n",
            "  (dense_layer_26): Linear(in_features=1024, out_features=1, bias=True)\n",
            ")\n",
            "Total Number of Parameters:  23627073\n",
            "Total Number of Trainable Parameters:  23627073\n"
          ],
          "name": "stdout"
        }
      ]
    },
    {
      "cell_type": "code",
      "metadata": {
        "id": "-PmUb_R3pwZF",
        "colab_type": "code",
        "colab": {
          "base_uri": "https://localhost:8080/",
          "height": 545
        },
        "outputId": "5c0571db-cf46-4c01-cb7d-2bfeffd2c000"
      },
      "source": [
        "pytorch_model = model.get_model()\n",
        "pytorch_model"
      ],
      "execution_count": 11,
      "outputs": [
        {
          "output_type": "execute_result",
          "data": {
            "text/plain": [
              "Sequential(\n",
              "  (conv2d_layer_1): Conv2d(3, 64, kernel_size=(3, 3), stride=(1, 1))\n",
              "  (relu_layer_2): ReLU()\n",
              "  (maxpool2d_layer_3): MaxPool2d(kernel_size=2, stride=2, padding=0, dilation=1, ceil_mode=False)\n",
              "  (dropout2d_layer_4): Dropout2d(p=0.5, inplace=False)\n",
              "  (conv2d_layer_5): Conv2d(64, 64, kernel_size=(3, 3), stride=(1, 1))\n",
              "  (relu_layer_6): ReLU()\n",
              "  (maxpool2d_layer_7): MaxPool2d(kernel_size=2, stride=2, padding=0, dilation=1, ceil_mode=False)\n",
              "  (dropout2d_layer_8): Dropout2d(p=0.5, inplace=False)\n",
              "  (conv2d_layer_9): Conv2d(64, 128, kernel_size=(3, 3), stride=(1, 1))\n",
              "  (relu_layer_10): ReLU()\n",
              "  (maxpool2d_layer_11): MaxPool2d(kernel_size=2, stride=2, padding=0, dilation=1, ceil_mode=False)\n",
              "  (dropout2d_layer_12): Dropout2d(p=0.5, inplace=False)\n",
              "  (conv2d_layer_13): Conv2d(128, 128, kernel_size=(3, 3), stride=(1, 1))\n",
              "  (relu_layer_14): ReLU()\n",
              "  (maxpool2d_layer_15): MaxPool2d(kernel_size=2, stride=2, padding=0, dilation=1, ceil_mode=False)\n",
              "  (dropout2d_layer_16): Dropout2d(p=0.5, inplace=False)\n",
              "  (conv2d_layer_17): Conv2d(128, 256, kernel_size=(3, 3), stride=(1, 1))\n",
              "  (relu_layer_18): ReLU()\n",
              "  (maxpool2d_layer_19): MaxPool2d(kernel_size=2, stride=2, padding=0, dilation=1, ceil_mode=False)\n",
              "  (dropout2d_layer_20): Dropout2d(p=0.5, inplace=False)\n",
              "  (flatten_layer_21): Flatten()\n",
              "  (dense_layer_22): Linear(in_features=21504, out_features=1024, bias=True)\n",
              "  (relu_layer_23): ReLU()\n",
              "  (dense_layer_24): Linear(in_features=1024, out_features=1024, bias=True)\n",
              "  (relu_layer_25): ReLU()\n",
              "  (dense_layer_26): Linear(in_features=1024, out_features=1, bias=True)\n",
              ")"
            ]
          },
          "metadata": {
            "tags": []
          },
          "execution_count": 11
        }
      ]
    },
    {
      "cell_type": "code",
      "metadata": {
        "id": "_s5R2brupzvz",
        "colab_type": "code",
        "colab": {
          "base_uri": "https://localhost:8080/",
          "height": 207
        },
        "outputId": "a43bfb70-7518-426c-e313-8feb100ff4b8"
      },
      "source": [
        "#define the loss fn and optimizer\n",
        "criterion = nn.MSELoss()\n",
        "optimizer = optim.Adam(pytorch_model.parameters(), lr=0.001)\n",
        "\n",
        "device = torch.device(\"cuda:0\")\n",
        "\n",
        "#initialize empty list to track batch losses\n",
        "batch_losses = []\n",
        "\n",
        "#train the neural network for 5 epochs\n",
        "for epoch in range(5):\n",
        "\n",
        "  #reset iterator\n",
        "  dataiter = iter(train_loader)\n",
        "  \n",
        "  for images, labels in tqdm(dataiter):\n",
        "              \n",
        "    #reset gradients\n",
        "    optimizer.zero_grad()\n",
        "    \n",
        "    #forward propagation through the network\n",
        "\n",
        "    images = images.to(device)\n",
        "\n",
        "    out = pytorch_model(images)\n",
        "    \n",
        "    #calculate the loss\n",
        "    labels = labels.to(device)\n",
        "    loss = criterion(out, labels)\n",
        "    \n",
        "    #track batch loss\n",
        "    batch_losses.append(loss.item())\n",
        "    \n",
        "    #backpropagation\n",
        "    loss.backward()\n",
        "    \n",
        "    #update the parameters\n",
        "    optimizer.step()"
      ],
      "execution_count": 18,
      "outputs": [
        {
          "output_type": "stream",
          "text": [
            "\r  0%|          | 0/45 [00:00<?, ?it/s]/usr/local/lib/python3.6/dist-packages/torch/nn/modules/loss.py:445: UserWarning: Using a target size (torch.Size([32])) that is different to the input size (torch.Size([32, 1])). This will likely lead to incorrect results due to broadcasting. Please ensure they have the same size.\n",
            "  return F.mse_loss(input, target, reduction=self.reduction)\n",
            " 98%|█████████▊| 44/45 [00:09<00:00,  4.64it/s]/usr/local/lib/python3.6/dist-packages/torch/nn/modules/loss.py:445: UserWarning: Using a target size (torch.Size([1])) that is different to the input size (torch.Size([1, 1])). This will likely lead to incorrect results due to broadcasting. Please ensure they have the same size.\n",
            "  return F.mse_loss(input, target, reduction=self.reduction)\n",
            "100%|██████████| 45/45 [00:09<00:00,  4.64it/s]\n",
            "100%|██████████| 45/45 [00:09<00:00,  4.69it/s]\n",
            "100%|██████████| 45/45 [00:09<00:00,  4.69it/s]\n",
            "100%|██████████| 45/45 [00:09<00:00,  4.69it/s]\n",
            "100%|██████████| 45/45 [00:09<00:00,  4.69it/s]\n"
          ],
          "name": "stderr"
        }
      ]
    },
    {
      "cell_type": "code",
      "metadata": {
        "id": "Z_YumwxWze0N",
        "colab_type": "code",
        "colab": {
          "base_uri": "https://localhost:8080/",
          "height": 36
        },
        "outputId": "6496c167-c2b2-42aa-8a6b-828095dbd6fa"
      },
      "source": [
        "len(batch_losses)"
      ],
      "execution_count": 23,
      "outputs": [
        {
          "output_type": "execute_result",
          "data": {
            "text/plain": [
              "225"
            ]
          },
          "metadata": {
            "tags": []
          },
          "execution_count": 23
        }
      ]
    },
    {
      "cell_type": "code",
      "metadata": {
        "id": "3AeJWX8_59oR",
        "colab_type": "code",
        "colab": {}
      },
      "source": [
        ""
      ],
      "execution_count": null,
      "outputs": []
    }
  ]
}