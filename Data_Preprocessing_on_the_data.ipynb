{
  "nbformat": 4,
  "nbformat_minor": 0,
  "metadata": {
    "colab": {
      "name": "Data Preprocessing on the data.ipynb",
      "provenance": [],
      "authorship_tag": "ABX9TyMbkkO2UuEF3J9nNlaqOm4T",
      "include_colab_link": true
    },
    "kernelspec": {
      "name": "python3",
      "display_name": "Python 3"
    }
  },
  "cells": [
    {
      "cell_type": "markdown",
      "metadata": {
        "id": "view-in-github",
        "colab_type": "text"
      },
      "source": [
        "<a href=\"https://colab.research.google.com/github/imdeepmind/UdacitySelfDrivingCar/blob/master/Data_Preprocessing_on_the_data.ipynb\" target=\"_parent\"><img src=\"https://colab.research.google.com/assets/colab-badge.svg\" alt=\"Open In Colab\"/></a>"
      ]
    },
    {
      "cell_type": "code",
      "metadata": {
        "id": "dzcAGbVg_nTQ",
        "colab_type": "code",
        "colab": {
          "base_uri": "https://localhost:8080/",
          "height": 152
        },
        "outputId": "062e7780-7797-44b5-ef06-3c75e2bcbb76"
      },
      "source": [
        "# Getting the into colab\n",
        "!git clone https://github.com/imdeepmind/UdacitySelfDrivingCar.git\n",
        "!mv UdacitySelfDrivingCar/data ./data\n",
        "!rm -r UdacitySelfDrivingCar"
      ],
      "execution_count": 1,
      "outputs": [
        {
          "output_type": "stream",
          "text": [
            "Cloning into 'UdacitySelfDrivingCar'...\n",
            "remote: Enumerating objects: 5200, done.\u001b[K\n",
            "remote: Counting objects: 100% (5200/5200), done.\u001b[K\n",
            "remote: Compressing objects: 100% (5199/5199), done.\u001b[K\n",
            "remote: Total 5200 (delta 1), reused 5196 (delta 1), pack-reused 0\u001b[K\n",
            "Receiving objects: 100% (5200/5200), 65.97 MiB | 35.08 MiB/s, done.\n",
            "Resolving deltas: 100% (1/1), done.\n"
          ],
          "name": "stdout"
        }
      ]
    },
    {
      "cell_type": "code",
      "metadata": {
        "id": "98NxOcBwAluT",
        "colab_type": "code",
        "colab": {}
      },
      "source": [
        "# Importing the dependencies\n",
        "import pandas as pd\n",
        "import numpy as np\n",
        "\n",
        "from tqdm import tqdm"
      ],
      "execution_count": 9,
      "outputs": []
    },
    {
      "cell_type": "code",
      "metadata": {
        "id": "zXEz6uwGC0Px",
        "colab_type": "code",
        "colab": {}
      },
      "source": [
        "DRIVER_LOG_FILE = './data/driving_log.csv'\n",
        "IMAGES_PATH = './data/IMG/'"
      ],
      "execution_count": 10,
      "outputs": []
    },
    {
      "cell_type": "code",
      "metadata": {
        "id": "afspb8ULAZc9",
        "colab_type": "code",
        "colab": {
          "base_uri": "https://localhost:8080/",
          "height": 206
        },
        "outputId": "ffa60fef-d3b2-4db7-870e-dfb520225045"
      },
      "source": [
        "# Reading the driver_log.csv file\n",
        "\n",
        "# In this log file, the first 3 columns are center camera, left camera, and right camera. And the remaining 4 values are strreing, throttle, reverse and speed\n",
        "# Here in the model, our aim is to predict the last 4 based on the first 3\n",
        "header=['center_camera', 'left_camera', 'right_camera','steering', 'throttle', 'reverse', 'speed']\n",
        "driver = pd.read_csv(DRIVER_LOG_FILE, names=header, header=None)\n",
        "\n",
        "driver.head()"
      ],
      "execution_count": 8,
      "outputs": [
        {
          "output_type": "execute_result",
          "data": {
            "text/html": [
              "<div>\n",
              "<style scoped>\n",
              "    .dataframe tbody tr th:only-of-type {\n",
              "        vertical-align: middle;\n",
              "    }\n",
              "\n",
              "    .dataframe tbody tr th {\n",
              "        vertical-align: top;\n",
              "    }\n",
              "\n",
              "    .dataframe thead th {\n",
              "        text-align: right;\n",
              "    }\n",
              "</style>\n",
              "<table border=\"1\" class=\"dataframe\">\n",
              "  <thead>\n",
              "    <tr style=\"text-align: right;\">\n",
              "      <th></th>\n",
              "      <th>center_camera</th>\n",
              "      <th>left_camera</th>\n",
              "      <th>right_camera</th>\n",
              "      <th>steering</th>\n",
              "      <th>throttle</th>\n",
              "      <th>reverse</th>\n",
              "      <th>speed</th>\n",
              "    </tr>\n",
              "  </thead>\n",
              "  <tbody>\n",
              "    <tr>\n",
              "      <th>0</th>\n",
              "      <td>C:\\Driving\\IMG\\center_2020_09_05_16_40_17_113.jpg</td>\n",
              "      <td>C:\\Driving\\IMG\\left_2020_09_05_16_40_17_113.jpg</td>\n",
              "      <td>C:\\Driving\\IMG\\right_2020_09_05_16_40_17_113.jpg</td>\n",
              "      <td>0.0</td>\n",
              "      <td>0.0</td>\n",
              "      <td>0</td>\n",
              "      <td>0.000077</td>\n",
              "    </tr>\n",
              "    <tr>\n",
              "      <th>1</th>\n",
              "      <td>C:\\Driving\\IMG\\center_2020_09_05_16_40_17_214.jpg</td>\n",
              "      <td>C:\\Driving\\IMG\\left_2020_09_05_16_40_17_214.jpg</td>\n",
              "      <td>C:\\Driving\\IMG\\right_2020_09_05_16_40_17_214.jpg</td>\n",
              "      <td>0.0</td>\n",
              "      <td>0.0</td>\n",
              "      <td>0</td>\n",
              "      <td>0.000077</td>\n",
              "    </tr>\n",
              "    <tr>\n",
              "      <th>2</th>\n",
              "      <td>C:\\Driving\\IMG\\center_2020_09_05_16_40_17_320.jpg</td>\n",
              "      <td>C:\\Driving\\IMG\\left_2020_09_05_16_40_17_320.jpg</td>\n",
              "      <td>C:\\Driving\\IMG\\right_2020_09_05_16_40_17_320.jpg</td>\n",
              "      <td>0.0</td>\n",
              "      <td>0.0</td>\n",
              "      <td>0</td>\n",
              "      <td>0.000077</td>\n",
              "    </tr>\n",
              "    <tr>\n",
              "      <th>3</th>\n",
              "      <td>C:\\Driving\\IMG\\center_2020_09_05_16_40_17_425.jpg</td>\n",
              "      <td>C:\\Driving\\IMG\\left_2020_09_05_16_40_17_425.jpg</td>\n",
              "      <td>C:\\Driving\\IMG\\right_2020_09_05_16_40_17_425.jpg</td>\n",
              "      <td>0.0</td>\n",
              "      <td>0.0</td>\n",
              "      <td>0</td>\n",
              "      <td>0.000077</td>\n",
              "    </tr>\n",
              "    <tr>\n",
              "      <th>4</th>\n",
              "      <td>C:\\Driving\\IMG\\center_2020_09_05_16_40_17_531.jpg</td>\n",
              "      <td>C:\\Driving\\IMG\\left_2020_09_05_16_40_17_531.jpg</td>\n",
              "      <td>C:\\Driving\\IMG\\right_2020_09_05_16_40_17_531.jpg</td>\n",
              "      <td>0.0</td>\n",
              "      <td>0.0</td>\n",
              "      <td>0</td>\n",
              "      <td>0.000077</td>\n",
              "    </tr>\n",
              "  </tbody>\n",
              "</table>\n",
              "</div>"
            ],
            "text/plain": [
              "                                       center_camera  ...     speed\n",
              "0  C:\\Driving\\IMG\\center_2020_09_05_16_40_17_113.jpg  ...  0.000077\n",
              "1  C:\\Driving\\IMG\\center_2020_09_05_16_40_17_214.jpg  ...  0.000077\n",
              "2  C:\\Driving\\IMG\\center_2020_09_05_16_40_17_320.jpg  ...  0.000077\n",
              "3  C:\\Driving\\IMG\\center_2020_09_05_16_40_17_425.jpg  ...  0.000077\n",
              "4  C:\\Driving\\IMG\\center_2020_09_05_16_40_17_531.jpg  ...  0.000077\n",
              "\n",
              "[5 rows x 7 columns]"
            ]
          },
          "metadata": {
            "tags": []
          },
          "execution_count": 8
        }
      ]
    },
    {
      "cell_type": "code",
      "metadata": {
        "id": "51PUQvpWB7kV",
        "colab_type": "code",
        "colab": {}
      },
      "source": [
        "# Here all the paths are absolute, so to on work any env we need to conv it into relative paths\n",
        "def abs_to_rela(path):\n",
        "  \"\"\"\n",
        "    Converts absolute to relative paths\n",
        "  \"\"\"\n",
        "  folders = path.split(\"\\\\\")\n",
        "  file_name = folders[-1]\n",
        "\n",
        "  return f\"{IMAGES_PATH}{file_name}\"\n",
        "\n",
        "def get_all_images_to_relative(paths):\n",
        "  \"\"\"\n",
        "    Convert all image paths to relative paths\n",
        "  \"\"\"\n",
        "  images = []\n",
        "  for img in tqdm(paths):\n",
        "    images.append(abs_to_rela(img))\n",
        "  \n",
        "  return images"
      ],
      "execution_count": 21,
      "outputs": []
    },
    {
      "cell_type": "code",
      "metadata": {
        "id": "L8X9J8sZEVzs",
        "colab_type": "code",
        "colab": {
          "base_uri": "https://localhost:8080/",
          "height": 75
        },
        "outputId": "326e1a10-4008-4393-f056-abd7b2ff6348"
      },
      "source": [
        "images = get_all_images_to_relative(driver['center_camera'].values)\n",
        "driver['center_camera'] = images\n",
        "\n",
        "images = get_all_images_to_relative(driver['left_camera'].values)\n",
        "driver['left_camera'] = images\n",
        "\n",
        "images = get_all_images_to_relative(driver['right_camera'].values)\n",
        "driver['right_camera'] = images"
      ],
      "execution_count": 26,
      "outputs": [
        {
          "output_type": "stream",
          "text": [
            "100%|██████████| 1762/1762 [00:00<00:00, 245714.79it/s]\n",
            "100%|██████████| 1762/1762 [00:00<00:00, 530155.21it/s]\n",
            "100%|██████████| 1762/1762 [00:00<00:00, 534449.21it/s]\n"
          ],
          "name": "stderr"
        }
      ]
    },
    {
      "cell_type": "code",
      "metadata": {
        "id": "QaQlg6bsFEaJ",
        "colab_type": "code",
        "colab": {
          "base_uri": "https://localhost:8080/",
          "height": 206
        },
        "outputId": "bf18fb41-0d6f-4399-b869-8a172632a0ae"
      },
      "source": [
        "driver.head()"
      ],
      "execution_count": 27,
      "outputs": [
        {
          "output_type": "execute_result",
          "data": {
            "text/html": [
              "<div>\n",
              "<style scoped>\n",
              "    .dataframe tbody tr th:only-of-type {\n",
              "        vertical-align: middle;\n",
              "    }\n",
              "\n",
              "    .dataframe tbody tr th {\n",
              "        vertical-align: top;\n",
              "    }\n",
              "\n",
              "    .dataframe thead th {\n",
              "        text-align: right;\n",
              "    }\n",
              "</style>\n",
              "<table border=\"1\" class=\"dataframe\">\n",
              "  <thead>\n",
              "    <tr style=\"text-align: right;\">\n",
              "      <th></th>\n",
              "      <th>center_camera</th>\n",
              "      <th>left_camera</th>\n",
              "      <th>right_camera</th>\n",
              "      <th>steering</th>\n",
              "      <th>throttle</th>\n",
              "      <th>reverse</th>\n",
              "      <th>speed</th>\n",
              "    </tr>\n",
              "  </thead>\n",
              "  <tbody>\n",
              "    <tr>\n",
              "      <th>0</th>\n",
              "      <td>./data/IMG/./data/IMG/center_2020_09_05_16_40_...</td>\n",
              "      <td>./data/IMG/left_2020_09_05_16_40_17_113.jpg</td>\n",
              "      <td>./data/IMG/right_2020_09_05_16_40_17_113.jpg</td>\n",
              "      <td>0.0</td>\n",
              "      <td>0.0</td>\n",
              "      <td>0</td>\n",
              "      <td>0.000077</td>\n",
              "    </tr>\n",
              "    <tr>\n",
              "      <th>1</th>\n",
              "      <td>./data/IMG/./data/IMG/center_2020_09_05_16_40_...</td>\n",
              "      <td>./data/IMG/left_2020_09_05_16_40_17_214.jpg</td>\n",
              "      <td>./data/IMG/right_2020_09_05_16_40_17_214.jpg</td>\n",
              "      <td>0.0</td>\n",
              "      <td>0.0</td>\n",
              "      <td>0</td>\n",
              "      <td>0.000077</td>\n",
              "    </tr>\n",
              "    <tr>\n",
              "      <th>2</th>\n",
              "      <td>./data/IMG/./data/IMG/center_2020_09_05_16_40_...</td>\n",
              "      <td>./data/IMG/left_2020_09_05_16_40_17_320.jpg</td>\n",
              "      <td>./data/IMG/right_2020_09_05_16_40_17_320.jpg</td>\n",
              "      <td>0.0</td>\n",
              "      <td>0.0</td>\n",
              "      <td>0</td>\n",
              "      <td>0.000077</td>\n",
              "    </tr>\n",
              "    <tr>\n",
              "      <th>3</th>\n",
              "      <td>./data/IMG/./data/IMG/center_2020_09_05_16_40_...</td>\n",
              "      <td>./data/IMG/left_2020_09_05_16_40_17_425.jpg</td>\n",
              "      <td>./data/IMG/right_2020_09_05_16_40_17_425.jpg</td>\n",
              "      <td>0.0</td>\n",
              "      <td>0.0</td>\n",
              "      <td>0</td>\n",
              "      <td>0.000077</td>\n",
              "    </tr>\n",
              "    <tr>\n",
              "      <th>4</th>\n",
              "      <td>./data/IMG/./data/IMG/center_2020_09_05_16_40_...</td>\n",
              "      <td>./data/IMG/left_2020_09_05_16_40_17_531.jpg</td>\n",
              "      <td>./data/IMG/right_2020_09_05_16_40_17_531.jpg</td>\n",
              "      <td>0.0</td>\n",
              "      <td>0.0</td>\n",
              "      <td>0</td>\n",
              "      <td>0.000077</td>\n",
              "    </tr>\n",
              "  </tbody>\n",
              "</table>\n",
              "</div>"
            ],
            "text/plain": [
              "                                       center_camera  ...     speed\n",
              "0  ./data/IMG/./data/IMG/center_2020_09_05_16_40_...  ...  0.000077\n",
              "1  ./data/IMG/./data/IMG/center_2020_09_05_16_40_...  ...  0.000077\n",
              "2  ./data/IMG/./data/IMG/center_2020_09_05_16_40_...  ...  0.000077\n",
              "3  ./data/IMG/./data/IMG/center_2020_09_05_16_40_...  ...  0.000077\n",
              "4  ./data/IMG/./data/IMG/center_2020_09_05_16_40_...  ...  0.000077\n",
              "\n",
              "[5 rows x 7 columns]"
            ]
          },
          "metadata": {
            "tags": []
          },
          "execution_count": 27
        }
      ]
    },
    {
      "cell_type": "code",
      "metadata": {
        "id": "G8gdAuDbFa3a",
        "colab_type": "code",
        "colab": {}
      },
      "source": [
        "driver.to_csv(\"./data/driver_log_cleaned.csv\", index=False)"
      ],
      "execution_count": 28,
      "outputs": []
    },
    {
      "cell_type": "code",
      "metadata": {
        "id": "8MlEMaZCF1Ti",
        "colab_type": "code",
        "colab": {}
      },
      "source": [
        ""
      ],
      "execution_count": null,
      "outputs": []
    }
  ]
}