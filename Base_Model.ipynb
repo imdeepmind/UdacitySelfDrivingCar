{
  "nbformat": 4,
  "nbformat_minor": 0,
  "metadata": {
    "colab": {
      "name": "Base Model.ipynb",
      "provenance": [],
      "authorship_tag": "ABX9TyPxwXKYr9hbNUsCMp5oqnzf",
      "include_colab_link": true
    },
    "kernelspec": {
      "name": "python3",
      "display_name": "Python 3"
    }
  },
  "cells": [
    {
      "cell_type": "markdown",
      "metadata": {
        "id": "view-in-github",
        "colab_type": "text"
      },
      "source": [
        "<a href=\"https://colab.research.google.com/github/imdeepmind/UdacitySelfDrivingCar/blob/master/Base_Model.ipynb\" target=\"_parent\"><img src=\"https://colab.research.google.com/assets/colab-badge.svg\" alt=\"Open In Colab\"/></a>"
      ]
    },
    {
      "cell_type": "code",
      "metadata": {
        "id": "dzcAGbVg_nTQ",
        "colab_type": "code",
        "colab": {
          "base_uri": "https://localhost:8080/",
          "height": 152
        },
        "outputId": "062e7780-7797-44b5-ef06-3c75e2bcbb76"
      },
      "source": [
        "# Getting the into colab\n",
        "!git clone https://github.com/imdeepmind/UdacitySelfDrivingCar.git\n",
        "!mv UdacitySelfDrivingCar/data ./data\n",
        "!rm -r UdacitySelfDrivingCar"
      ],
      "execution_count": 1,
      "outputs": [
        {
          "output_type": "stream",
          "text": [
            "Cloning into 'UdacitySelfDrivingCar'...\n",
            "remote: Enumerating objects: 5200, done.\u001b[K\n",
            "remote: Counting objects: 100% (5200/5200), done.\u001b[K\n",
            "remote: Compressing objects: 100% (5199/5199), done.\u001b[K\n",
            "remote: Total 5200 (delta 1), reused 5196 (delta 1), pack-reused 0\u001b[K\n",
            "Receiving objects: 100% (5200/5200), 65.97 MiB | 35.08 MiB/s, done.\n",
            "Resolving deltas: 100% (1/1), done.\n"
          ],
          "name": "stdout"
        }
      ]
    },
    {
      "cell_type": "code",
      "metadata": {
        "id": "8MlEMaZCF1Ti",
        "colab_type": "code",
        "colab": {}
      },
      "source": [
        "# Importing dependencies\n",
        "import pandas as pd\n",
        "import numpy as np\n",
        "import cv2"
      ],
      "execution_count": 30,
      "outputs": []
    },
    {
      "cell_type": "code",
      "metadata": {
        "id": "9xylno4PkkV_",
        "colab_type": "code",
        "colab": {}
      },
      "source": [
        "class ImageDataGenerator:\n",
        "  def __init__(self, training_images, validation_images, batch_size=32):\n",
        "    self.__training_counter = 0\n",
        "    self.__validation_counter  = 0\n",
        "\n",
        "    self.__training_images = training_images\n",
        "    self.__validation_images = validation_images\n",
        "\n",
        "    self.__batch_size = batch_size\n",
        "\n",
        "  def __read_images(self, path):\n",
        "    return cv.imread(path, 1)\n",
        "  \n",
        "  def __image_augmenration(self. image):\n",
        "    # TODO: Need to do some augmentation\n",
        "    return image\n",
        "  \n",
        "  def __stack_images(left, center, right):\n",
        "    return np.hstack([left, center, right])\n",
        "\n",
        "\n",
        "  def training_generator(self):\n",
        "    for i in range(len(self.__training_images), self.__batch_size):\n",
        "      batch_data = self.__training_images[self.__training_counter:self.__training_counter=self.__batch_size]\n",
        "\n",
        "      for element in batch_data:\n",
        "        center_image = self.__read_images()\n",
        "\n",
        "      self.__training_counter += i * self.__batch_size\n",
        "      \n",
        "      # read the images\n",
        "      # perform some augmenration\n",
        "      # stack them"
      ],
      "execution_count": null,
      "outputs": []
    }
  ]
}