{
  "nbformat": 4,
  "nbformat_minor": 0,
  "metadata": {
    "colab": {
      "name": "Base Model.ipynb",
      "provenance": [],
      "authorship_tag": "ABX9TyNwAfQIklnAwW190ZCTlva/",
      "include_colab_link": true
    },
    "kernelspec": {
      "name": "python3",
      "display_name": "Python 3"
    },
    "accelerator": "GPU"
  },
  "cells": [
    {
      "cell_type": "markdown",
      "metadata": {
        "id": "view-in-github",
        "colab_type": "text"
      },
      "source": [
        "<a href=\"https://colab.research.google.com/github/imdeepmind/UdacitySelfDrivingCar/blob/master/Base_Model.ipynb\" target=\"_parent\"><img src=\"https://colab.research.google.com/assets/colab-badge.svg\" alt=\"Open In Colab\"/></a>"
      ]
    },
    {
      "cell_type": "code",
      "metadata": {
        "id": "dzcAGbVg_nTQ",
        "colab_type": "code",
        "colab": {
          "base_uri": "https://localhost:8080/",
          "height": 149
        },
        "outputId": "a1ff5185-1f1b-4134-c690-96ff8b7ae4c3"
      },
      "source": [
        "# Getting the into colab\n",
        "!git clone https://github.com/imdeepmind/UdacitySelfDrivingCar.git\n",
        "!mv UdacitySelfDrivingCar/data ./data\n",
        "!rm -r UdacitySelfDrivingCar"
      ],
      "execution_count": 1,
      "outputs": [
        {
          "output_type": "stream",
          "text": [
            "Cloning into 'UdacitySelfDrivingCar'...\n",
            "remote: Enumerating objects: 24, done.\u001b[K\n",
            "remote: Counting objects: 100% (24/24), done.\u001b[K\n",
            "remote: Compressing objects: 100% (19/19), done.\u001b[K\n",
            "remote: Total 5224 (delta 12), reused 10 (delta 5), pack-reused 5200\u001b[K\n",
            "Receiving objects: 100% (5224/5224), 66.03 MiB | 42.28 MiB/s, done.\n",
            "Resolving deltas: 100% (13/13), done.\n"
          ],
          "name": "stdout"
        }
      ]
    },
    {
      "cell_type": "code",
      "metadata": {
        "id": "8MlEMaZCF1Ti",
        "colab_type": "code",
        "colab": {}
      },
      "source": [
        "# Importing dependencies\n",
        "import pandas as pd\n",
        "import numpy as np\n",
        "import cv2\n",
        "\n",
        "from sklearn.model_selection import train_test_split\n",
        "\n",
        "from tensorflow.keras.models import Sequential\n",
        "from tensorflow.keras.layers import Conv2D, Dense, MaxPooling2D, Dropout, Flatten"
      ],
      "execution_count": 2,
      "outputs": []
    },
    {
      "cell_type": "code",
      "metadata": {
        "id": "9xylno4PkkV_",
        "colab_type": "code",
        "colab": {}
      },
      "source": [
        "class ImageDataGenerator:\n",
        "  def __init__(self, training_images, validation_images, batch_size=32):\n",
        "    self.__training_counter = 0\n",
        "    self.__validation_counter  = 0\n",
        "\n",
        "    self.__training_images = training_images\n",
        "    self.__validation_images = validation_images\n",
        "\n",
        "    self.__batch_size = batch_size\n",
        "\n",
        "  def __read_images(self, path):\n",
        "    return cv2.imread(path, 1)\n",
        "  \n",
        "  def __image_augmenration(self, image):\n",
        "    # TODO: Need to do some augmentation\n",
        "    return image\n",
        "  \n",
        "  def __stack_images(self, left, center, right):\n",
        "    return np.hstack([left, center, right])\n",
        "\n",
        "  def training_generator(self):\n",
        "    for i in range(0, len(self.__training_images), self.__batch_size):\n",
        "      batch_data = self.__training_images[self.__training_counter:self.__training_counter+self.__batch_size]\n",
        "\n",
        "      images = []\n",
        "      steers = []\n",
        "\n",
        "      for element in batch_data:\n",
        "        center_image = self.__image_augmenration(self.__read_images(element[0]))\n",
        "        left_image = self.__image_augmenration(self.__read_images(element[1]))\n",
        "        right_image = self.__image_augmenration(self.__read_images(element[2]))\n",
        "\n",
        "        image = self.__stack_images(left_image, center_image, right_image)\n",
        "\n",
        "        images.append(image)\n",
        "        steers.append(element[3])\n",
        "\n",
        "      self.__training_counter += self.__batch_size\n",
        "\n",
        "      yield np.array(images), np.array(steers)\n",
        "  \n",
        "  def validation_generator(self):\n",
        "    for i in range(0, len(self.__validation_images), self.__batch_size):\n",
        "      batch_data = self.__validation_images[self.__validation_counter:self.__validation_counter+self.__batch_size]\n",
        "\n",
        "      images = []\n",
        "      steers = []\n",
        "\n",
        "      for element in batch_data:\n",
        "        center_image = self.__read_images(element[0])\n",
        "        left_image = self.__read_images(element[1])\n",
        "        right_image = self.__read_images(element[2])\n",
        "\n",
        "        image = self.__stack_images(left_image, center_image, right_image)\n",
        "\n",
        "        images.append(image)\n",
        "        steers.append(element[3])\n",
        "\n",
        "      self.__validation_counter += self.__batch_size\n",
        "\n",
        "      yield np.array(images), np.array(steers)"
      ],
      "execution_count": 3,
      "outputs": []
    },
    {
      "cell_type": "code",
      "metadata": {
        "id": "hchD4BSeNKI-",
        "colab_type": "code",
        "colab": {
          "base_uri": "https://localhost:8080/",
          "height": 1000
        },
        "outputId": "b4d2b269-25a1-4b58-da01-c14c1c4740cd"
      },
      "source": [
        "# The Model\n",
        "model = Sequential()\n",
        "\n",
        "model.add(Conv2D(filters = 64, kernel_size = 3, padding = 'Same', activation ='relu', input_shape = (160,960,3)))\n",
        "model.add(MaxPooling2D(pool_size=(2,2)))\n",
        "model.add(Dropout(0.25))\n",
        "\n",
        "model.add(Conv2D(filters = 64, kernel_size = 3, padding = 'Same', activation ='relu', input_shape = (640,480,3)))\n",
        "model.add(MaxPooling2D(pool_size=(2,2)))\n",
        "model.add(Dropout(0.25))\n",
        "\n",
        "model.add(Conv2D(filters = 128, kernel_size = 3, padding = 'Same', activation ='relu'))\n",
        "model.add(MaxPooling2D(pool_size=(2,2)))\n",
        "model.add(Dropout(0.25))\n",
        "\n",
        "model.add(Conv2D(filters = 128, kernel_size = 3, padding = 'Same', activation ='relu'))\n",
        "model.add(MaxPooling2D(pool_size=(2,2)))\n",
        "model.add(Dropout(0.25))\n",
        "\n",
        "model.add(Conv2D(filters = 256, kernel_size = 3, padding = 'Same', activation ='relu'))\n",
        "model.add(MaxPooling2D(pool_size=(2,2)))\n",
        "model.add(Dropout(0.25))\n",
        "\n",
        "model.add(Conv2D(filters = 256, kernel_size = 3, padding = 'Same', activation ='relu'))\n",
        "model.add(MaxPooling2D(pool_size=(2,2)))\n",
        "model.add(Dropout(0.25))\n",
        "\n",
        "model.add(Conv2D(filters = 256, kernel_size = 3, padding = 'Same', activation ='relu'))\n",
        "model.add(MaxPooling2D(pool_size=(2,2)))\n",
        "model.add(Dropout(0.25))\n",
        "\n",
        "model.add(Flatten())\n",
        "\n",
        "model.add(Dense(4096, activation = \"relu\"))\n",
        "model.add(Dropout(0.5))\n",
        "\n",
        "model.add(Dense(4096, activation = \"relu\"))\n",
        "model.add(Dropout(0.5))\n",
        "\n",
        "model.add(Dense(4096, activation = \"relu\"))\n",
        "model.add(Dropout(0.5))\n",
        "\n",
        "model.add(Dense(1))\n",
        "\n",
        "model.summary()"
      ],
      "execution_count": 16,
      "outputs": [
        {
          "output_type": "stream",
          "text": [
            "Model: \"sequential_3\"\n",
            "_________________________________________________________________\n",
            "Layer (type)                 Output Shape              Param #   \n",
            "=================================================================\n",
            "conv2d_16 (Conv2D)           (None, 160, 960, 64)      1792      \n",
            "_________________________________________________________________\n",
            "max_pooling2d_16 (MaxPooling (None, 80, 480, 64)       0         \n",
            "_________________________________________________________________\n",
            "dropout_18 (Dropout)         (None, 80, 480, 64)       0         \n",
            "_________________________________________________________________\n",
            "conv2d_17 (Conv2D)           (None, 80, 480, 64)       36928     \n",
            "_________________________________________________________________\n",
            "max_pooling2d_17 (MaxPooling (None, 40, 240, 64)       0         \n",
            "_________________________________________________________________\n",
            "dropout_19 (Dropout)         (None, 40, 240, 64)       0         \n",
            "_________________________________________________________________\n",
            "conv2d_18 (Conv2D)           (None, 40, 240, 128)      73856     \n",
            "_________________________________________________________________\n",
            "max_pooling2d_18 (MaxPooling (None, 20, 120, 128)      0         \n",
            "_________________________________________________________________\n",
            "dropout_20 (Dropout)         (None, 20, 120, 128)      0         \n",
            "_________________________________________________________________\n",
            "conv2d_19 (Conv2D)           (None, 20, 120, 128)      147584    \n",
            "_________________________________________________________________\n",
            "max_pooling2d_19 (MaxPooling (None, 10, 60, 128)       0         \n",
            "_________________________________________________________________\n",
            "dropout_21 (Dropout)         (None, 10, 60, 128)       0         \n",
            "_________________________________________________________________\n",
            "conv2d_20 (Conv2D)           (None, 10, 60, 256)       295168    \n",
            "_________________________________________________________________\n",
            "max_pooling2d_20 (MaxPooling (None, 5, 30, 256)        0         \n",
            "_________________________________________________________________\n",
            "dropout_22 (Dropout)         (None, 5, 30, 256)        0         \n",
            "_________________________________________________________________\n",
            "conv2d_21 (Conv2D)           (None, 5, 30, 256)        590080    \n",
            "_________________________________________________________________\n",
            "max_pooling2d_21 (MaxPooling (None, 2, 15, 256)        0         \n",
            "_________________________________________________________________\n",
            "dropout_23 (Dropout)         (None, 2, 15, 256)        0         \n",
            "_________________________________________________________________\n",
            "conv2d_22 (Conv2D)           (None, 2, 15, 256)        590080    \n",
            "_________________________________________________________________\n",
            "max_pooling2d_22 (MaxPooling (None, 1, 7, 256)         0         \n",
            "_________________________________________________________________\n",
            "dropout_24 (Dropout)         (None, 1, 7, 256)         0         \n",
            "_________________________________________________________________\n",
            "flatten_2 (Flatten)          (None, 1792)              0         \n",
            "_________________________________________________________________\n",
            "dense_5 (Dense)              (None, 4096)              7344128   \n",
            "_________________________________________________________________\n",
            "dropout_25 (Dropout)         (None, 4096)              0         \n",
            "_________________________________________________________________\n",
            "dense_6 (Dense)              (None, 4096)              16781312  \n",
            "_________________________________________________________________\n",
            "dropout_26 (Dropout)         (None, 4096)              0         \n",
            "_________________________________________________________________\n",
            "dense_7 (Dense)              (None, 4096)              16781312  \n",
            "_________________________________________________________________\n",
            "dropout_27 (Dropout)         (None, 4096)              0         \n",
            "_________________________________________________________________\n",
            "dense_8 (Dense)              (None, 1)                 4097      \n",
            "=================================================================\n",
            "Total params: 42,646,337\n",
            "Trainable params: 42,646,337\n",
            "Non-trainable params: 0\n",
            "_________________________________________________________________\n"
          ],
          "name": "stdout"
        }
      ]
    },
    {
      "cell_type": "code",
      "metadata": {
        "id": "WFl91KnsN0FQ",
        "colab_type": "code",
        "colab": {}
      },
      "source": [
        "data = pd.read_csv('./data/driver_log_cleaned.csv')\n",
        "\n",
        "train_data, test_data = train_test_split(data.values, test_size=0.1)"
      ],
      "execution_count": 17,
      "outputs": []
    },
    {
      "cell_type": "code",
      "metadata": {
        "id": "nzopeNA63_nX",
        "colab_type": "code",
        "colab": {}
      },
      "source": [
        "gen = ImageDataGenerator(train_data, test_data)\n",
        "\n",
        "training_generator = gen.training_generator()\n",
        "validation_generator = gen.validation_generator()"
      ],
      "execution_count": 18,
      "outputs": []
    },
    {
      "cell_type": "code",
      "metadata": {
        "id": "LAoFKSEJ4GCm",
        "colab_type": "code",
        "colab": {}
      },
      "source": [
        "model.compile(loss='mean_squared_error', optimizer='adam', metrics=['mae'])"
      ],
      "execution_count": 19,
      "outputs": []
    },
    {
      "cell_type": "code",
      "metadata": {
        "id": "6ikwr4ojA4W0",
        "colab_type": "code",
        "colab": {
          "base_uri": "https://localhost:8080/",
          "height": 188
        },
        "outputId": "70499063-fe62-49a3-e30c-f88fc7cedda8"
      },
      "source": [
        "model.fit(training_generator, steps_per_epoch=len(train_data) // 32, validation_data=validation_generator, validation_steps=len(test_data) // 32, epochs=10)"
      ],
      "execution_count": 20,
      "outputs": [
        {
          "output_type": "stream",
          "text": [
            "Epoch 1/10\n",
            " 2/49 [>.............................] - ETA: 10s - loss: 479676.1562 - mae: 509.3265WARNING:tensorflow:Callbacks method `on_train_batch_end` is slow compared to the batch time (batch time: 0.0844s vs `on_train_batch_end` time: 0.1626s). Check your callbacks.\n",
            "49/49 [==============================] - 12s 253ms/step - loss: 21194.9570 - mae: 29.6011 - val_loss: 0.0322 - val_mae: 0.0785\n",
            "Epoch 2/10\n",
            " 1/49 [..............................] - ETA: 1s - loss: 0.0612 - mae: 0.1073WARNING:tensorflow:Your input ran out of data; interrupting training. Make sure that your dataset or generator can generate at least `steps_per_epoch * epochs` batches (in this case, 490 batches). You may need to use the repeat() function when building your dataset.\n",
            "WARNING:tensorflow:Your input ran out of data; interrupting training. Make sure that your dataset or generator can generate at least `steps_per_epoch * epochs` batches (in this case, 5 batches). You may need to use the repeat() function when building your dataset.\n",
            " 1/49 [..............................] - 0s 64ms/step - loss: 0.0612 - mae: 0.1073\n"
          ],
          "name": "stdout"
        },
        {
          "output_type": "execute_result",
          "data": {
            "text/plain": [
              "<tensorflow.python.keras.callbacks.History at 0x7f09446fd048>"
            ]
          },
          "metadata": {
            "tags": []
          },
          "execution_count": 20
        }
      ]
    },
    {
      "cell_type": "code",
      "metadata": {
        "id": "a8EOPXIKASQ2",
        "colab_type": "code",
        "colab": {}
      },
      "source": [
        ""
      ],
      "execution_count": null,
      "outputs": []
    }
  ]
}