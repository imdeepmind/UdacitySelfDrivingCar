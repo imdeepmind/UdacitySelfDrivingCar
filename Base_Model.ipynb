{
  "nbformat": 4,
  "nbformat_minor": 0,
  "metadata": {
    "colab": {
      "name": "Base Model.ipynb",
      "provenance": [],
      "authorship_tag": "ABX9TyNW/88ggoplEM+kz+0U33kJ",
      "include_colab_link": true
    },
    "kernelspec": {
      "name": "python3",
      "display_name": "Python 3"
    }
  },
  "cells": [
    {
      "cell_type": "markdown",
      "metadata": {
        "id": "view-in-github",
        "colab_type": "text"
      },
      "source": [
        "<a href=\"https://colab.research.google.com/github/imdeepmind/UdacitySelfDrivingCar/blob/master/Base_Model.ipynb\" target=\"_parent\"><img src=\"https://colab.research.google.com/assets/colab-badge.svg\" alt=\"Open In Colab\"/></a>"
      ]
    },
    {
      "cell_type": "code",
      "metadata": {
        "id": "dzcAGbVg_nTQ",
        "colab_type": "code",
        "colab": {
          "base_uri": "https://localhost:8080/",
          "height": 149
        },
        "outputId": "804859ee-6e77-46cc-9b21-92b2f158a0b9"
      },
      "source": [
        "# Getting the into colab\n",
        "!git clone https://github.com/imdeepmind/UdacitySelfDrivingCar.git\n",
        "!mv UdacitySelfDrivingCar/data ./data\n",
        "!rm -r UdacitySelfDrivingCar"
      ],
      "execution_count": 111,
      "outputs": [
        {
          "output_type": "stream",
          "text": [
            "Cloning into 'UdacitySelfDrivingCar'...\n",
            "remote: Enumerating objects: 18, done.\u001b[K\n",
            "remote: Counting objects: 100% (18/18), done.\u001b[K\n",
            "remote: Compressing objects: 100% (13/13), done.\u001b[K\n",
            "remote: Total 5218 (delta 7), reused 12 (delta 5), pack-reused 5200\u001b[K\n",
            "Receiving objects: 100% (5218/5218), 66.02 MiB | 10.30 MiB/s, done.\n",
            "Resolving deltas: 100% (8/8), done.\n"
          ],
          "name": "stdout"
        }
      ]
    },
    {
      "cell_type": "code",
      "metadata": {
        "id": "8MlEMaZCF1Ti",
        "colab_type": "code",
        "colab": {}
      },
      "source": [
        "# Importing dependencies\n",
        "import pandas as pd\n",
        "import numpy as np\n",
        "import cv2\n",
        "\n",
        "from sklearn.model_selection import train_test_split"
      ],
      "execution_count": 112,
      "outputs": []
    },
    {
      "cell_type": "code",
      "metadata": {
        "id": "9xylno4PkkV_",
        "colab_type": "code",
        "colab": {}
      },
      "source": [
        "class ImageDataGenerator:\n",
        "  def __init__(self, training_images, validation_images, batch_size=32):\n",
        "    self.__training_counter = 0\n",
        "    self.__validation_counter  = 0\n",
        "\n",
        "    self.__training_images = training_images\n",
        "    self.__validation_images = validation_images\n",
        "\n",
        "    self.__batch_size = batch_size\n",
        "\n",
        "  def __read_images(self, path):\n",
        "    return cv2.imread(path, 1)\n",
        "  \n",
        "  def __image_augmenration(self, image):\n",
        "    # TODO: Need to do some augmentation\n",
        "    return image\n",
        "  \n",
        "  def __stack_images(self, left, center, right):\n",
        "    return np.hstack([left, center, right])\n",
        "\n",
        "  def training_generator(self):\n",
        "    for i in range(0, len(self.__training_images), self.__batch_size):\n",
        "      batch_data = self.__training_images[self.__training_counter:self.__training_counter+self.__batch_size]\n",
        "\n",
        "      images = []\n",
        "      steers = []\n",
        "\n",
        "      for element in batch_data:\n",
        "        center_image = self.__image_augmenration(self.__read_images(element[0]))\n",
        "        left_image = self.__image_augmenration(self.__read_images(element[1]))\n",
        "        right_image = self.__image_augmenration(self.__read_images(element[2]))\n",
        "\n",
        "        image = self.__stack_images(left_image, center_image, right_image)\n",
        "\n",
        "        images.append(image)\n",
        "        steers.append(element[3])\n",
        "\n",
        "      self.__training_counter += self.__batch_size\n",
        "\n",
        "      yield np.array(images), np.array(steers)\n",
        "  \n",
        "  def validation_generator(self):\n",
        "    for i in range(0, len(self.__validation_images), self.__batch_size):\n",
        "      batch_data = self.__validation_images[self.__validation_counter:self.__validation_counter+self.__batch_size]\n",
        "\n",
        "      images = []\n",
        "      steers = []\n",
        "\n",
        "      for element in batch_data:\n",
        "        center_image = self.__read_images(element[0])\n",
        "        left_image = self.__read_images(element[1])\n",
        "        right_image = self.__read_images(element[2])\n",
        "\n",
        "        image = self.__stack_images(left_image, center_image, right_image)\n",
        "\n",
        "        images.append(image)\n",
        "        steers.append(element[3])\n",
        "\n",
        "      self.__validation_counter += self.__batch_size\n",
        "\n",
        "      yield np.array(images), np.array(steers)"
      ],
      "execution_count": 139,
      "outputs": []
    },
    {
      "cell_type": "code",
      "metadata": {
        "id": "nzopeNA63_nX",
        "colab_type": "code",
        "colab": {}
      },
      "source": [
        "gen = ImageDataGenerator(train_data, test_data)"
      ],
      "execution_count": 140,
      "outputs": []
    },
    {
      "cell_type": "code",
      "metadata": {
        "id": "LAoFKSEJ4GCm",
        "colab_type": "code",
        "colab": {}
      },
      "source": [
        "a, b = next(gen.validation_generator())"
      ],
      "execution_count": 141,
      "outputs": []
    },
    {
      "cell_type": "code",
      "metadata": {
        "id": "6ikwr4ojA4W0",
        "colab_type": "code",
        "colab": {
          "base_uri": "https://localhost:8080/",
          "height": 36
        },
        "outputId": "6a02843a-f24f-4ac0-9bfd-d78d92e4aeab"
      },
      "source": [
        "a.shape"
      ],
      "execution_count": 142,
      "outputs": [
        {
          "output_type": "execute_result",
          "data": {
            "text/plain": [
              "(32, 160, 960, 3)"
            ]
          },
          "metadata": {
            "tags": []
          },
          "execution_count": 142
        }
      ]
    },
    {
      "cell_type": "code",
      "metadata": {
        "id": "JtBnaIg-A6jY",
        "colab_type": "code",
        "colab": {
          "base_uri": "https://localhost:8080/",
          "height": 36
        },
        "outputId": "ec1ba263-26cf-42e2-a31a-3558f9a4c4ac"
      },
      "source": [
        "b.shape"
      ],
      "execution_count": 143,
      "outputs": [
        {
          "output_type": "execute_result",
          "data": {
            "text/plain": [
              "(32,)"
            ]
          },
          "metadata": {
            "tags": []
          },
          "execution_count": 143
        }
      ]
    },
    {
      "cell_type": "code",
      "metadata": {
        "id": "JZrrtY1j3jkx",
        "colab_type": "code",
        "colab": {}
      },
      "source": [
        "data = pd.read_csv('./data/driver_log_cleaned.csv')\n",
        "\n",
        "train_data, test_data = train_test_split(data.values, test_size=0.1)"
      ],
      "execution_count": 116,
      "outputs": []
    },
    {
      "cell_type": "code",
      "metadata": {
        "id": "a8EOPXIKASQ2",
        "colab_type": "code",
        "colab": {}
      },
      "source": [
        ""
      ],
      "execution_count": null,
      "outputs": []
    }
  ]
}